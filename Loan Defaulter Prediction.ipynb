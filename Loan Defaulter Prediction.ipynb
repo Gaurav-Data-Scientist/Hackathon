{
 "cells": [
  {
   "cell_type": "code",
   "execution_count": 2,
   "metadata": {},
   "outputs": [],
   "source": [
    "import numpy as np\n",
    "import pandas as pd\n",
    "from sklearn import metrics\n",
    "import matplotlib.pyplot as plt\n",
    "import seaborn as sns\n",
    "import sqlite3\n",
    "from sklearn.preprocessing import LabelEncoder\n",
    "from sklearn.model_selection import train_test_split\n",
    "from sklearn.metrics import classification_report\n",
    "from sklearn.ensemble import RandomForestRegressor\n",
    "from sklearn.metrics import roc_auc_score\n",
    "from sklearn.feature_selection import SelectFromModel"
   ]
  },
  {
   "cell_type": "code",
   "execution_count": 4,
   "metadata": {},
   "outputs": [
    {
     "name": "stdout",
     "output_type": "stream",
     "text": [
      "Output 1: Row & Column (2476, 15) \n",
      "\n",
      "Output 2: Data Type: \n",
      " loan_id                            int64\n",
      "account_number                    object\n",
      "customer_id                        int64\n",
      "enterprise_id                    float64\n",
      "screening_date                    object\n",
      "product_code                      object\n",
      "hub_id                             int64\n",
      "business_type                     object\n",
      "business_activity                 object\n",
      "business_sector                   object\n",
      "ManagAgeui_APP                   float64\n",
      "BusinFormalityOfTheBusinessui     object\n",
      "ManagCBscoreui_APP               float64\n",
      "total_disbursement_amount        float64\n",
      "disbursement_month                object\n",
      "dtype: object \n",
      "\n"
     ]
    },
    {
     "data": {
      "text/html": [
       "<div>\n",
       "<style scoped>\n",
       "    .dataframe tbody tr th:only-of-type {\n",
       "        vertical-align: middle;\n",
       "    }\n",
       "\n",
       "    .dataframe tbody tr th {\n",
       "        vertical-align: top;\n",
       "    }\n",
       "\n",
       "    .dataframe thead th {\n",
       "        text-align: right;\n",
       "    }\n",
       "</style>\n",
       "<table border=\"1\" class=\"dataframe\">\n",
       "  <thead>\n",
       "    <tr style=\"text-align: right;\">\n",
       "      <th></th>\n",
       "      <th>loan_id</th>\n",
       "      <th>account_number</th>\n",
       "      <th>customer_id</th>\n",
       "      <th>enterprise_id</th>\n",
       "      <th>screening_date</th>\n",
       "      <th>product_code</th>\n",
       "      <th>hub_id</th>\n",
       "      <th>business_type</th>\n",
       "      <th>business_activity</th>\n",
       "      <th>business_sector</th>\n",
       "      <th>ManagAgeui_APP</th>\n",
       "      <th>BusinFormalityOfTheBusinessui</th>\n",
       "      <th>ManagCBscoreui_APP</th>\n",
       "      <th>total_disbursement_amount</th>\n",
       "      <th>disbursement_month</th>\n",
       "    </tr>\n",
       "  </thead>\n",
       "  <tbody>\n",
       "    <tr>\n",
       "      <th>0</th>\n",
       "      <td>29321</td>\n",
       "      <td>None</td>\n",
       "      <td>71846</td>\n",
       "      <td>24500.0</td>\n",
       "      <td>2018-04-19</td>\n",
       "      <td>None</td>\n",
       "      <td>53</td>\n",
       "      <td>None</td>\n",
       "      <td>Job Work</td>\n",
       "      <td>Machine  Components</td>\n",
       "      <td>27.0</td>\n",
       "      <td>None</td>\n",
       "      <td>776.0</td>\n",
       "      <td>NaN</td>\n",
       "      <td>None</td>\n",
       "    </tr>\n",
       "    <tr>\n",
       "      <th>1</th>\n",
       "      <td>13613</td>\n",
       "      <td>TLWCU0003070</td>\n",
       "      <td>31083</td>\n",
       "      <td>10723.0</td>\n",
       "      <td>2017-08-10</td>\n",
       "      <td>TLWCU</td>\n",
       "      <td>39</td>\n",
       "      <td>Trading</td>\n",
       "      <td>Retail</td>\n",
       "      <td>Electronics</td>\n",
       "      <td>30.0</td>\n",
       "      <td>Invoice &amp; Banked</td>\n",
       "      <td>616.0</td>\n",
       "      <td>400000.0</td>\n",
       "      <td>Aug-2017</td>\n",
       "    </tr>\n",
       "    <tr>\n",
       "      <th>2</th>\n",
       "      <td>13921</td>\n",
       "      <td>None</td>\n",
       "      <td>31928</td>\n",
       "      <td>11002.0</td>\n",
       "      <td>2017-08-17</td>\n",
       "      <td>None</td>\n",
       "      <td>56</td>\n",
       "      <td>None</td>\n",
       "      <td>Retail</td>\n",
       "      <td>Agriculture</td>\n",
       "      <td>55.0</td>\n",
       "      <td>None</td>\n",
       "      <td>793.0</td>\n",
       "      <td>NaN</td>\n",
       "      <td>None</td>\n",
       "    </tr>\n",
       "    <tr>\n",
       "      <th>3</th>\n",
       "      <td>16520</td>\n",
       "      <td>None</td>\n",
       "      <td>38660</td>\n",
       "      <td>13220.0</td>\n",
       "      <td>2017-10-21</td>\n",
       "      <td>None</td>\n",
       "      <td>58</td>\n",
       "      <td>None</td>\n",
       "      <td>Retail</td>\n",
       "      <td>Food &amp; Beverage</td>\n",
       "      <td>26.0</td>\n",
       "      <td>None</td>\n",
       "      <td>781.0</td>\n",
       "      <td>NaN</td>\n",
       "      <td>None</td>\n",
       "    </tr>\n",
       "    <tr>\n",
       "      <th>4</th>\n",
       "      <td>49742</td>\n",
       "      <td>TLWCS0012623</td>\n",
       "      <td>119694</td>\n",
       "      <td>40426.0</td>\n",
       "      <td>2018-12-24</td>\n",
       "      <td>TLWCS</td>\n",
       "      <td>27</td>\n",
       "      <td>Manufacturing</td>\n",
       "      <td>Job Work &amp; Sales</td>\n",
       "      <td>Textiles</td>\n",
       "      <td>30.0</td>\n",
       "      <td>Cash &amp; Non Banked</td>\n",
       "      <td>689.0</td>\n",
       "      <td>500000.0</td>\n",
       "      <td>Jan-2019</td>\n",
       "    </tr>\n",
       "  </tbody>\n",
       "</table>\n",
       "</div>"
      ],
      "text/plain": [
       "   loan_id account_number  customer_id  enterprise_id screening_date  \\\n",
       "0    29321           None        71846        24500.0     2018-04-19   \n",
       "1    13613   TLWCU0003070        31083        10723.0     2017-08-10   \n",
       "2    13921           None        31928        11002.0     2017-08-17   \n",
       "3    16520           None        38660        13220.0     2017-10-21   \n",
       "4    49742   TLWCS0012623       119694        40426.0     2018-12-24   \n",
       "\n",
       "  product_code  hub_id  business_type business_activity      business_sector  \\\n",
       "0         None      53           None          Job Work  Machine  Components   \n",
       "1        TLWCU      39        Trading            Retail          Electronics   \n",
       "2         None      56           None            Retail          Agriculture   \n",
       "3         None      58           None            Retail      Food & Beverage   \n",
       "4        TLWCS      27  Manufacturing  Job Work & Sales             Textiles   \n",
       "\n",
       "   ManagAgeui_APP BusinFormalityOfTheBusinessui  ManagCBscoreui_APP  \\\n",
       "0            27.0                          None               776.0   \n",
       "1            30.0              Invoice & Banked               616.0   \n",
       "2            55.0                          None               793.0   \n",
       "3            26.0                          None               781.0   \n",
       "4            30.0             Cash & Non Banked               689.0   \n",
       "\n",
       "   total_disbursement_amount disbursement_month  \n",
       "0                        NaN               None  \n",
       "1                   400000.0           Aug-2017  \n",
       "2                        NaN               None  \n",
       "3                        NaN               None  \n",
       "4                   500000.0           Jan-2019  "
      ]
     },
     "execution_count": 4,
     "metadata": {},
     "output_type": "execute_result"
    }
   ],
   "source": [
    "#Reading data from SQL database\n",
    "connection = sqlite3.connect(\"kinara_assessment_20190807.db\")\n",
    "data_raw = pd.read_sql_query(\"SELECT DISTINCT loan.*, ent.business_type, ent.business_activity, ent.business_sector, score.ManagAgeui_APP, score.BusinFormalityOfTheBusinessui ,score.ManagCBscoreui_APP, dis.total_disbursement_amount, dis.disbursement_month from loan_information as loan left join enterprise_information as ent on loan.enterprise_id=ent.enterprise_id left join scores_information as score on loan.loan_id=score.loan_id left join (SELECT * from disbursement_information where account_number is not NULL) as dis on loan.account_number=dis.account_number\", connection)\n",
    "\n",
    "print('Output 1: Row & Column',data_raw.shape,'\\n')\n",
    "print('Output 2: Data Type:','\\n',data_raw.dtypes,'\\n')\n",
    "\n",
    "data_raw.describe()\n",
    "data_raw.head()"
   ]
  },
  {
   "cell_type": "code",
   "execution_count": 5,
   "metadata": {},
   "outputs": [
    {
     "name": "stdout",
     "output_type": "stream",
     "text": [
      "       ManagCBscoreui_APP\n",
      "count         2473.000000\n",
      "mean           594.897291\n",
      "std            289.479152\n",
      "min              0.000000\n",
      "25%            556.000000\n",
      "50%            733.000000\n",
      "75%            793.000000\n",
      "max            840.000000\n"
     ]
    },
    {
     "data": {
      "image/png": "[encoded data removed]",
      "text/plain": [
       "<Figure size 432x288 with 1 Axes>"
      ]
     },
     "metadata": {
      "needs_background": "light"
     },
     "output_type": "display_data"
    }
   ],
   "source": [
    "# Feature Engineering\n",
    "\n",
    "data=data_raw\n",
    "\n",
    "# flag whether loan appication was rejected or accepted\n",
    "data['Loan_Accepted']=np.where(data['account_number'].isna()==True, 0,1) \n",
    "\n",
    "data['Secured_Loan']=data[['product_code']].apply(lambda x: x.str[-1], axis=1)\n",
    "\n",
    "# Creating Cibil scores bucket by looking at distribution and based on business sense (-1:no info, 0:<6 months, 650+ is considered good)\n",
    "data['ManagCBscoreui_APP'].hist()\n",
    "print(data[['ManagCBscoreui_APP']].describe())\n",
    "\n",
    "def cibil_condition(temp):\n",
    "    if temp['ManagCBscoreui_APP']==-1:\n",
    "        return 'No info'\n",
    "    elif temp['ManagCBscoreui_APP']==0:\n",
    "        return '<6 mths'\n",
    "    elif temp['ManagCBscoreui_APP']>0 and temp['ManagCBscoreui_APP'] < 650:\n",
    "        return 'bad score'\n",
    "    elif temp['ManagCBscoreui_APP']>=650:\n",
    "        return 'good score'\n",
    "    else:\n",
    "        return 'missing'\n",
    "\n",
    "data['Cibil_Bucket']=data[['ManagCBscoreui_APP']].apply(cibil_condition, axis=1)"
   ]
  },
  {
   "cell_type": "code",
   "execution_count": 6,
   "metadata": {},
   "outputs": [],
   "source": [
    "# Business Objective: To predict the likelihood of loan acceptance for a customer\n",
    "\n",
    "# Variable catagorization\n",
    "    # ID variables (can't be used in modeling): loan_id, account_number, customer_id, enterprise_id\n",
    "    # Post term variable (can't be used in modeling): total_disbursement_amount, disbursement_month, product_code \n",
    "    # Variables to be used in modeling: ManagAgeui_APP, screening_date, BusinFormalityOfTheBusinessui, ManagCBscoreui_APP, business_sector, business_type, business_activity\n",
    "    # Other variable (meaning is not known but it can be used in modeling): hub_id"
   ]
  },
  {
   "cell_type": "code",
   "execution_count": 7,
   "metadata": {},
   "outputs": [
    {
     "name": "stdout",
     "output_type": "stream",
     "text": [
      "Output 1: Missing values in Overall data: \n",
      " loan_id                             0\n",
      "account_number                   1107\n",
      "customer_id                         0\n",
      "enterprise_id                       1\n",
      "screening_date                    126\n",
      "product_code                     1058\n",
      "hub_id                              0\n",
      "business_type                     464\n",
      "business_activity                   1\n",
      "business_sector                     1\n",
      "ManagAgeui_APP                      3\n",
      "BusinFormalityOfTheBusinessui     488\n",
      "ManagCBscoreui_APP                  3\n",
      "total_disbursement_amount        1107\n",
      "disbursement_month               1107\n",
      "Loan_Accepted                       0\n",
      "Secured_Loan                     1058\n",
      "Cibil_Bucket                        0\n",
      "dtype: int64 \n",
      "\n",
      "Output 2: Missing values in Accepted Loan: \n",
      " loan_id                            0\n",
      "account_number                     0\n",
      "customer_id                        0\n",
      "enterprise_id                      1\n",
      "screening_date                   126\n",
      "product_code                       0\n",
      "hub_id                             0\n",
      "business_type                      1\n",
      "business_activity                  1\n",
      "business_sector                    1\n",
      "ManagAgeui_APP                     1\n",
      "BusinFormalityOfTheBusinessui      3\n",
      "ManagCBscoreui_APP                 1\n",
      "total_disbursement_amount          0\n",
      "disbursement_month                 0\n",
      "Loan_Accepted                      0\n",
      "Secured_Loan                       0\n",
      "Cibil_Bucket                       0\n",
      "dtype: int64 \n",
      "\n",
      "Output 3: Missing values after treatment: \n",
      " loan_id                             0\n",
      "account_number                   1107\n",
      "customer_id                         0\n",
      "enterprise_id                       1\n",
      "screening_date                    126\n",
      "product_code                        0\n",
      "hub_id                              0\n",
      "business_type                       0\n",
      "business_activity                   0\n",
      "business_sector                     0\n",
      "ManagAgeui_APP                      0\n",
      "BusinFormalityOfTheBusinessui       0\n",
      "ManagCBscoreui_APP                  0\n",
      "total_disbursement_amount        1107\n",
      "disbursement_month               1107\n",
      "Loan_Accepted                       0\n",
      "Secured_Loan                        0\n",
      "Cibil_Bucket                        0\n",
      "dtype: int64 \n",
      "\n"
     ]
    },
    {
     "data": {
      "image/png": "[encoded data removed]",
      "text/plain": [
       "<Figure size 432x288 with 1 Axes>"
      ]
     },
     "metadata": {
      "needs_background": "light"
     },
     "output_type": "display_data"
    }
   ],
   "source": [
    "#  Missing values check and value imputation\n",
    "print('Output 1: Missing values in Overall data:','\\n',data.isna().sum(),'\\n')\n",
    "print('Output 2: Missing values in Accepted Loan:','\\n',data[data['Loan_Accepted']==1].isna().sum(),'\\n')\n",
    "  \n",
    "# Checking variable distribution to decide mean/median imputation (ploting for ManagAgeui_APP only)  \n",
    "sns.distplot(data['ManagAgeui_APP'])\n",
    "\n",
    "# Imputing following variables with mean\n",
    "    # Mean: ManagAgeui_APP\n",
    "data['ManagAgeui_APP'].fillna(data['ManagAgeui_APP'].mean(), inplace=True)\n",
    "\n",
    "# Imputing following variables with median\n",
    "    # Median: ManagCBscoreui_APP\n",
    "data['ManagCBscoreui_APP'].fillna(data['ManagCBscoreui_APP'].median(), inplace=True)\n",
    "\n",
    "\n",
    "# No imputation is required for the below variables as missing values are there for Rejected loan only; Accepted loans have values populated\n",
    "    # total_disbursement_amount, disbursement_month\n",
    "\n",
    "# No imputation for ID and date columns\n",
    "    # loan_id, loan_id, account_number, customer_id, enterprise_id, screening_date\n",
    "\n",
    "    \n",
    "# Imputing with adding 'missing' in the columns\n",
    "    # product_code, business_type, business_activity, business_sector, BusinFormalityOfTheBusinessui, Secured_Loan\n",
    "data['product_code'].fillna('Missing', inplace=True)\n",
    "data['business_type'].fillna('Missing', inplace=True)\n",
    "data['business_activity'].fillna('Missing', inplace=True)\n",
    "data['business_sector'].fillna('Missing', inplace=True)\n",
    "data['BusinFormalityOfTheBusinessui'].fillna('Missing', inplace=True)\n",
    "data['Secured_Loan'].fillna('Missing', inplace=True)\n",
    "\n",
    "print('Output 3: Missing values after treatment:','\\n',data.isna().sum(),'\\n')\n"
   ]
  },
  {
   "cell_type": "code",
   "execution_count": 8,
   "metadata": {},
   "outputs": [
    {
     "data": {
      "image/png": "[encoded data removed]",
      "text/plain": [
       "<Figure size 432x288 with 1 Axes>"
      ]
     },
     "metadata": {
      "needs_background": "light"
     },
     "output_type": "display_data"
    }
   ],
   "source": [
    "# Variable distribution for numerical variables\n",
    "\n",
    "#Distribution check of numeric variables\n",
    "# sns.distplot(data['ManagAgeui_APP'])\n",
    "\n",
    "#Percentile plot of numerical variables\n",
    "def percentile_plot(variable):\n",
    "    a=[i/10 for i in list(range(1,11))]\n",
    "    plt.plot(data[[variable]].apply(lambda x: x.quantile(a)))\n",
    "\n",
    "percentile_plot('ManagAgeui_APP')\n",
    "# percentile_plot('ManagCBscoreui_APP')\n",
    "# percentile_plot('total_disbursement_amount')"
   ]
  },
  {
   "cell_type": "code",
   "execution_count": 9,
   "metadata": {},
   "outputs": [
    {
     "name": "stdout",
     "output_type": "stream",
     "text": [
      "No of unique values: 5\n"
     ]
    },
    {
     "data": {
      "image/png": "[encoded data removed]",
      "text/plain": [
       "<Figure size 1440x216 with 1 Axes>"
      ]
     },
     "metadata": {
      "needs_background": "light"
     },
     "output_type": "display_data"
    }
   ],
   "source": [
    "#Histogram check for categorical variables\n",
    "def Histogram_plot(variable):\n",
    "    print('No of unique values:',data[variable].nunique())\n",
    "    fig, ax = plt.subplots(figsize=(20, 3))\n",
    "    sns.countplot(data[variable])\n",
    "    \n",
    "Histogram_plot('BusinFormalityOfTheBusinessui')\n",
    "# Histogram_plot('business_type')\n",
    "# Histogram_plot('business_activity')\n",
    "# Histogram_plot('business_sector')\n"
   ]
  },
  {
   "cell_type": "code",
   "execution_count": 10,
   "metadata": {},
   "outputs": [
    {
     "data": {
      "text/plain": [
       "<matplotlib.axes._subplots.AxesSubplot at 0x262fab7fc8>"
      ]
     },
     "execution_count": 10,
     "metadata": {},
     "output_type": "execute_result"
    },
    {
     "data": {
      "image/png": "[encoded data removed]",
      "text/plain": [
       "<Figure size 432x288 with 1 Axes>"
      ]
     },
     "metadata": {
      "needs_background": "light"
     },
     "output_type": "display_data"
    }
   ],
   "source": [
    "# Outlier check (numerical var only)\n",
    "# sns.boxplot(data['ManagAgeui_APP'])  # Age: There are some variables outside of IQR but it is in acceptable range \n",
    "# sns.boxplot(data[data['Loan_Accepted']==1]['total_disbursement_amount'])  # Loan Amt: There are some values outside of IQR but it's in acceptable range\n",
    "sns.boxplot(data['ManagCBscoreui_APP'])  # Cibil Score: There are some values outside of IQR but there is a meaning for 0 value \n"
   ]
  },
  {
   "cell_type": "code",
   "execution_count": 11,
   "metadata": {},
   "outputs": [
    {
     "name": "stdout",
     "output_type": "stream",
     "text": [
      "Variable: business_activity \n",
      "                                sum  count        RR\n",
      "business_activity                                  \n",
      "Job Work                       187    322  0.580745\n",
      "Job Work & Sales               252    482  0.522822\n",
      "Job Work and sales               4      4  1.000000\n",
      "Missing                          1      1  1.000000\n",
      "Retail                         364    744  0.489247\n",
      "Retail (Business to Business)    3      4  0.750000\n",
      "Retail (Business to Customer)    2      5  0.400000\n",
      "Sales                          360    549  0.655738\n",
      "Whole Sale                     195    364  0.535714\n",
      "Whole sale                       1      1  1.000000 \n",
      "\n"
     ]
    },
    {
     "data": {
      "image/png": "[encoded data removed]",
      "text/plain": [
       "<Figure size 1440x216 with 1 Axes>"
      ]
     },
     "metadata": {
      "needs_background": "light"
     },
     "output_type": "display_data"
    }
   ],
   "source": [
    "# Bi-variate analysis (char variables)\n",
    "\n",
    "# Response rate by categories \n",
    "def RR_category(col):\n",
    "    RR_temp = data.groupby(col)['Loan_Accepted'].agg(['sum','count'])\n",
    "    RR_temp['RR']=RR_temp['sum']/RR_temp['count']\n",
    "    print('Variable:',col,'\\n',RR_temp,'\\n')\n",
    "    fig, ax = plt.subplots(figsize=(20, 3))\n",
    "    sns.barplot(y=RR_temp['RR'], x=RR_temp.index)\n",
    "\n",
    "# RR_category('Cibil_Bucket')\n",
    "\n",
    "# RR_category('BusinFormalityOfTheBusinessui')\n",
    "# RR_category('Secured_Loan')\n",
    "# RR_category('business_type')\n",
    "RR_category('business_activity')\n",
    "# RR_category('business_sector')"
   ]
  },
  {
   "cell_type": "code",
   "execution_count": 12,
   "metadata": {},
   "outputs": [
    {
     "name": "stdout",
     "output_type": "stream",
     "text": [
      "Portfolio RR: 0.552907915993538 \n",
      "\n",
      "Variable: ManagAgeui_APP \n",
      "               Var  sum  count        RR\n",
      "Decile                                 \n",
      "0       25.921502  158    293  0.539249\n",
      "1       30.013115  175    305  0.573770\n",
      "2       32.538793  132    232  0.568966\n",
      "3       34.434043  138    235  0.587234\n",
      "4       36.436548  113    197  0.573604\n",
      "5       38.936195  174    301  0.578073\n",
      "6       41.537572   92    173  0.531792\n",
      "7       44.449477  160    287  0.557491\n",
      "8       48.235849  112    212  0.528302\n",
      "9       55.132780  115    241  0.477178 \n",
      "\n",
      "Variable: ManagCBscoreui_APP \n",
      "                Var  sum  count        RR\n",
      "Decile                                  \n",
      "0        59.442000  277    500  0.554000\n",
      "1       561.600806   68    248  0.274194\n",
      "2       647.309237  115    249  0.461847\n",
      "3       711.018382  134    272  0.492647\n",
      "4       752.135246  153    244  0.627049\n",
      "5       771.591111  137    225  0.608889\n",
      "6       790.456000  152    250  0.608000\n",
      "7       802.891667  159    240  0.662500\n",
      "8       816.000000  174    248  0.701613 \n",
      "\n"
     ]
    },
    {
     "data": {
      "image/png": "[encoded data removed]",
      "text/plain": [
       "<Figure size 1440x216 with 1 Axes>"
      ]
     },
     "metadata": {
      "needs_background": "light"
     },
     "output_type": "display_data"
    },
    {
     "data": {
      "image/png": "[encoded data removed]",
      "text/plain": [
       "<Figure size 1440x216 with 1 Axes>"
      ]
     },
     "metadata": {
      "needs_background": "light"
     },
     "output_type": "display_data"
    }
   ],
   "source": [
    "# Bi-variate analysis (numeric variables)\n",
    "\n",
    "print('Portfolio RR:',data['Loan_Accepted'].sum()/len(data),'\\n')\n",
    "def Decile_RR(variable):\n",
    "    Decile_temp=data\n",
    "    Decile_temp['Decile'] = pd.qcut(Decile_temp[variable], 10,labels = False, duplicates='drop') \n",
    "\n",
    "    RR_temp = Decile_temp.groupby('Decile').agg({variable:['mean'], 'Loan_Accepted':['sum','count']})\n",
    "    RR_temp.columns=['Var','sum','count']\n",
    "    RR_temp['RR']=RR_temp['sum']/RR_temp['count']\n",
    "    print('Variable:',variable,'\\n',RR_temp,'\\n')\n",
    "    fig, ax = plt.subplots(figsize=(20, 3))\n",
    "    sns.lineplot(y=RR_temp['RR'], x=RR_temp['Var'])\n",
    "\n",
    "Decile_RR('ManagAgeui_APP')\n",
    "Decile_RR('ManagCBscoreui_APP')\n"
   ]
  },
  {
   "cell_type": "code",
   "execution_count": 13,
   "metadata": {},
   "outputs": [
    {
     "name": "stdout",
     "output_type": "stream",
     "text": [
      "Total Loan Application: 2442 \n",
      " # unique enterprise 2476 \n",
      " Repeat loan application 34\n"
     ]
    }
   ],
   "source": [
    "# Feature Engineering: Creating variables for customers who have applied for repeat loans\n",
    "\n",
    "print('Total Loan Application:',data['enterprise_id'].nunique(),'\\n','# unique enterprise',len(data),'\\n',\n",
    "      'Repeat loan application',len(data) - data['enterprise_id'].nunique())\n",
    "\n",
    "data['Previous_application']=0\n",
    "data['Previous_accepted_application']=0\n",
    "data['Previous_rejected_application']=0\n",
    "data['Previous_Cibil_avg']=0\n",
    "data['Previous_Cibil_max']=0\n",
    "data['Previous_Cibil_min']=0\n",
    "data['Previous_Secured_Loan']=0\n",
    "data['Previous_Unsecured_Loan']=0\n",
    "\n",
    "for i in data['enterprise_id'].unique():\n",
    "    temp_data=data[data['enterprise_id']==i]\n",
    "    if len(temp_data)>1:\n",
    "        temp_data.sort_values(by='screening_date', ascending=True)\n",
    "        temp_index = temp_data.index\n",
    "        for j in range(0,len(temp_data)):\n",
    "\n",
    "            #No of previous loan application\n",
    "            data.loc[temp_index[j],'Previous_application']=len(temp_data)-j-1\n",
    "\n",
    "            #No of previous accepted application\n",
    "            data.loc[temp_index[j],'Previous_accepted_application']=temp_data.iloc[j+1:]['Loan_Accepted'].sum()\n",
    "\n",
    "            #No of previous rejected application\n",
    "            data.loc[temp_index[j],'Previous_rejected_application']=(len(temp_data)-j-1) - (temp_data.iloc[j+1:]['Loan_Accepted'].sum())\n",
    "\n",
    "            #Avg Cibil score previously\n",
    "            data.loc[temp_index[j],'Previous_Cibil_avg']=temp_data.iloc[j+1:,]['ManagCBscoreui_APP'].mean()\n",
    "\n",
    "            #Max Cibil score previously\n",
    "            data.loc[temp_index[j],'Previous_Cibil_max']=temp_data.iloc[j+1:,]['ManagCBscoreui_APP'].max()\n",
    "\n",
    "            #Min Cibil score previously\n",
    "            data.loc[temp_index[j],'Previous_Cibil_max']=temp_data.iloc[j+1:,]['ManagCBscoreui_APP'].min()\n",
    "\n",
    "            # Number of Secured loan previously\n",
    "            data.loc[temp_index[j],'Previous_Secured_Loan']=len(temp_data.iloc[j+1:,][temp_data.iloc[j+1:,]['Secured_Loan']=='S']['Secured_Loan'])\n",
    "\n",
    "            # Number of Unsecured loan previously\n",
    "            data.loc[temp_index[j],'Previous_Unsecured_Loan']=len(temp_data.iloc[j+1:,][temp_data.iloc[j+1:,]['Secured_Loan']=='U']['Secured_Loan'])\n",
    "\n",
    "data['Previous_Cibil_avg'].fillna(0, inplace=True)\n",
    "data['Previous_Cibil_min'].fillna(0, inplace=True)\n",
    "data['Previous_Cibil_max'].fillna(0, inplace=True)"
   ]
  },
  {
   "cell_type": "code",
   "execution_count": 14,
   "metadata": {},
   "outputs": [
    {
     "name": "stdout",
     "output_type": "stream",
     "text": [
      "Variable: Cibil_Bucket 0.2517446792656204 \n",
      "\n",
      "Variable: hub_id 0.22324275834414395 \n",
      "\n",
      "Variable: ManagCBscoreui_APP 0.23141854165769876 \n",
      "\n",
      "Variable: ManagAgeui_APP 0.23141854165769876 \n",
      "\n",
      "Variable: Previous_application 0.008103123336974936 \n",
      "\n",
      "Variable: Previous_accepted_application 0.010255161330866585 \n",
      "\n",
      "Variable: Previous_rejected_application 1.598506675825027e-05 \n",
      "\n",
      "Variable: Previous_Cibil_min 0.0 \n",
      "\n",
      "Variable: Previous_Unsecured_Loan 0.013455354577976083 \n",
      "\n"
     ]
    }
   ],
   "source": [
    "# Information Value\n",
    "data_IV=data\n",
    "\n",
    "def IV_categorical(col, col_type):\n",
    "    if col_type=='char':\n",
    "        IV_temp = data.groupby(col)['Loan_Accepted'].agg(['sum','count'])\n",
    "    elif col_type=='num':\n",
    "        data_IV['Decile'] = pd.qcut(data_IV['ManagCBscoreui_APP'], 10,labels = False, duplicates='drop') \n",
    "        IV_temp = data.groupby('Decile')['Loan_Accepted'].agg(['sum','count'])\n",
    "    \n",
    "    IV_temp['Goods']=IV_temp['sum']\n",
    "    IV_temp['Bad']=(IV_temp['count']-IV_temp['sum'])\n",
    "    IV_temp['percent_Goods']=IV_temp['Goods']/IV_temp['Goods'].sum()\n",
    "    IV_temp['percent_Bads']=IV_temp['Bad']/IV_temp['Bad'].sum()\n",
    "    IV_temp['IV']=np.log(IV_temp['percent_Goods']/IV_temp['percent_Bads'])*(IV_temp['percent_Goods'] - IV_temp['percent_Bads'])\n",
    "    print('Variable:',col,IV_temp['IV'].sum(), '\\n')\n",
    "\n",
    "IV_categorical('Cibil_Bucket','char')\n",
    "IV_categorical('hub_id','char')\n",
    "IV_categorical('ManagCBscoreui_APP','num')\n",
    "IV_categorical('ManagAgeui_APP','num')\n",
    "\n",
    "IV_categorical('Previous_application','char')\n",
    "IV_categorical('Previous_accepted_application','char')\n",
    "IV_categorical('Previous_rejected_application','char')\n",
    "IV_categorical('Previous_Cibil_min','char')\n",
    "IV_categorical('Previous_Unsecured_Loan','char')\n"
   ]
  },
  {
   "cell_type": "code",
   "execution_count": 15,
   "metadata": {},
   "outputs": [],
   "source": [
    "# One hot encoding\n",
    "\n",
    "# Passing hub_id as charater in model\n",
    "data_model=data\n",
    "\n",
    "data_model['hub_id']=data_model['hub_id'].astype(str)\n",
    "\n",
    "data_model=pd.concat([data_model, pd.get_dummies(data_model['Secured_Loan'],drop_first=True, prefix='Secured')], axis=1)\n",
    "data_model=pd.concat([data_model, pd.get_dummies(data_model['Cibil_Bucket'],drop_first=True, prefix='Cibil')], axis=1)\n",
    "data_model=pd.concat([data_model, pd.get_dummies(data_model['hub_id'],drop_first=True, prefix='Hub')], axis=1)\n",
    "data_model=pd.concat([data_model, pd.get_dummies(data_model['product_code'],drop_first=True, prefix='Product')], axis=1)\n",
    "data_model=pd.concat([data_model, pd.get_dummies(data_model['business_type'],drop_first=True, prefix='Business_T')], axis=1)\n",
    "data_model=pd.concat([data_model, pd.get_dummies(data_model['business_sector'],drop_first=True, prefix='Business_S')], axis=1)\n",
    "data_model=pd.concat([data_model, pd.get_dummies(data_model['business_activity'],drop_first=True, prefix='Business_A')], axis=1)\n",
    "data_model=pd.concat([data_model, pd.get_dummies(data_model['BusinFormalityOfTheBusinessui'],drop_first=True, prefix='Business_F')], axis=1)\n",
    "\n",
    "\n",
    "data_model.drop('Secured_Loan', axis=1, inplace=True)\n",
    "data_model.drop('Cibil_Bucket', axis=1, inplace=True)\n",
    "data_model.drop('hub_id', axis=1, inplace=True)\n",
    "data_model.drop('product_code', axis=1, inplace=True)\n",
    "data_model.drop('business_type', axis=1, inplace=True)\n",
    "data_model.drop('business_sector', axis=1, inplace=True)\n",
    "data_model.drop('business_activity', axis=1, inplace=True)\n",
    "data_model.drop('BusinFormalityOfTheBusinessui', axis=1, inplace=True)\n",
    "\n",
    "# pd.DataFrame(data_model.dtypes).to_csv('Model_variables.csv')"
   ]
  },
  {
   "cell_type": "code",
   "execution_count": 20,
   "metadata": {},
   "outputs": [
    {
     "name": "stdout",
     "output_type": "stream",
     "text": [
      "Training (Row, Columns): (1980, 85) (1980,)\n",
      "Testing (Row, Columns): (496, 85) (496,)\n"
     ]
    }
   ],
   "source": [
    "# Split the data into training and testing sets\n",
    "\n",
    "# (Assumption: Secured Loan variable can be used in model as when a new customer applies for a laon, all the details (what type of loan- Secured/Unsecured) are taken from the customer)\n",
    "\n",
    "\n",
    "X=data_model[['ManagAgeui_APP',\t'ManagCBscoreui_APP',\t'Previous_application',\t'Previous_accepted_application',\t'Previous_rejected_application',\t'Previous_Cibil_avg',\t'Previous_Cibil_max',\t'Previous_Cibil_min',\t'Previous_Secured_Loan',\t'Previous_Unsecured_Loan',\t'Secured_S',\t'Secured_U',\t'Cibil_bad score',\t'Cibil_good score',\t'Cibil_missing',\t'Product_ICWCS',\t'Product_ICWCU',\t'Product_LCRDS',\t'Product_LCRDU',\t'Product_LCRIS',\t'Product_LCRIU',\t'Product_Missing',\t'Product_STWCS',\t'Product_STWCU',\t'Product_TLAPS',\t'Product_TLBDS',\t'Product_TLBDU',\t'Product_TLMFS',\t'Product_TLWCS',\t'Product_TLWCU',\t'Product_VCWCS',\t'Business_T_Missing',\t'Business_T_Services',\t'Business_T_Trading',\t'Business_S_Apparel',\t'Business_S_Auto Components',\t'Business_S_Automobiles',\t'Business_S_Bedding',\t'Business_S_Bedding Industry',\t'Business_S_Book Stores',\t'Business_S_Chemicals',\t'Business_S_Construction',\t'Business_S_Construction Material',\t'Business_S_Electrical',\t'Business_S_Electricals',\t'Business_S_Electronics',\t'Business_S_Fabrication',\t'Business_S_Fashion',\t'Business_S_Food & Beverage',\t'Business_S_Food Products',\t'Business_S_Furniture',\t'Business_S_General',\t'Business_S_Handicrafts',\t'Business_S_Health & Beauty',\t'Business_S_Hobbies',\t'Business_S_Home Care',\t'Business_S_Home Furnishings',\t'Business_S_Houseware',\t'Business_S_Industrial',\t'Business_S_Leather',\t'Business_S_Machine  Components',\t'Business_S_Machine Components',\t'Business_S_Medical Equipment',\t'Business_S_Metal works',\t'Business_S_Missing',\t'Business_S_Paper',\t'Business_S_Pharmaceuticals',\t'Business_S_Plastics',\t'Business_S_Printing',\t'Business_S_Rubber',\t'Business_S_Textiles',\t'Business_S_Wood',\t'Business_A_Job Work & Sales',\t'Business_A_Job Work and sales',\t'Business_A_Missing',\t'Business_A_Retail',\t'Business_A_Retail (Business to Business)',\t'Business_A_Retail (Business to Customer)',\t'Business_A_Sales',\t'Business_A_Whole Sale',\t'Business_A_Whole sale',\t'Business_F_Cash & Non Banked',\t'Business_F_Invoice & Banked',\t'Business_F_Invoice & Non Banked',\t'Business_F_Missing']]\n",
    "y=data_model['Loan_Accepted']\n",
    "\n",
    "X_train, X_test, y_train, y_test = train_test_split(X, y, test_size = 0.2, random_state = 42)\n",
    "\n",
    "print('Training (Row, Columns):', X_train.shape, y_train.shape)\n",
    "print('Testing (Row, Columns):', X_test.shape, y_test.shape)\n"
   ]
  },
  {
   "cell_type": "code",
   "execution_count": 21,
   "metadata": {},
   "outputs": [
    {
     "name": "stdout",
     "output_type": "stream",
     "text": [
      "              precision    recall  f1-score   support\n",
      "\n",
      "           0       1.00      0.98      0.99       225\n",
      "           1       0.99      1.00      0.99       271\n",
      "\n",
      "    accuracy                           0.99       496\n",
      "   macro avg       0.99      0.99      0.99       496\n",
      "weighted avg       0.99      0.99      0.99       496\n",
      "\n",
      "ROC Score: 0.9905371053710537\n"
     ]
    }
   ],
   "source": [
    "RF = RandomForestRegressor(n_estimators = 50, random_state = 11)\n",
    "\n",
    "# Train the model on training dataset\n",
    "RF.fit(X_train, y_train)\n",
    "Predict=RF.predict(X_test)\n",
    "print(classification_report(y_test,Predict.round()))\n",
    "print(\"ROC Score:\", roc_auc_score(y_test, Predict))\n",
    "\n",
    "# Model performance is coming very high because Secured Loan\n",
    "# (Assumption: It can be used in model as when a new customer applies for a laon, all the details (what type of loan- Secured/Unsecured) are taken from the customer)"
   ]
  },
  {
   "cell_type": "code",
   "execution_count": 22,
   "metadata": {},
   "outputs": [
    {
     "data": {
      "text/html": [
       "<div>\n",
       "<style scoped>\n",
       "    .dataframe tbody tr th:only-of-type {\n",
       "        vertical-align: middle;\n",
       "    }\n",
       "\n",
       "    .dataframe tbody tr th {\n",
       "        vertical-align: top;\n",
       "    }\n",
       "\n",
       "    .dataframe thead th {\n",
       "        text-align: right;\n",
       "    }\n",
       "</style>\n",
       "<table border=\"1\" class=\"dataframe\">\n",
       "  <thead>\n",
       "    <tr style=\"text-align: right;\">\n",
       "      <th></th>\n",
       "      <th>importance</th>\n",
       "    </tr>\n",
       "  </thead>\n",
       "  <tbody>\n",
       "    <tr>\n",
       "      <th>Product_Missing</th>\n",
       "      <td>0.922286</td>\n",
       "    </tr>\n",
       "    <tr>\n",
       "      <th>Business_T_Missing</th>\n",
       "      <td>0.029467</td>\n",
       "    </tr>\n",
       "    <tr>\n",
       "      <th>ManagAgeui_APP</th>\n",
       "      <td>0.013769</td>\n",
       "    </tr>\n",
       "    <tr>\n",
       "      <th>ManagCBscoreui_APP</th>\n",
       "      <td>0.010138</td>\n",
       "    </tr>\n",
       "    <tr>\n",
       "      <th>Product_TLAPS</th>\n",
       "      <td>0.001689</td>\n",
       "    </tr>\n",
       "    <tr>\n",
       "      <th>Business_S_Bedding</th>\n",
       "      <td>0.001610</td>\n",
       "    </tr>\n",
       "    <tr>\n",
       "      <th>Product_ICWCU</th>\n",
       "      <td>0.001401</td>\n",
       "    </tr>\n",
       "    <tr>\n",
       "      <th>Previous_Cibil_max</th>\n",
       "      <td>0.001279</td>\n",
       "    </tr>\n",
       "    <tr>\n",
       "      <th>Business_S_Fabrication</th>\n",
       "      <td>0.001269</td>\n",
       "    </tr>\n",
       "    <tr>\n",
       "      <th>Business_A_Job Work &amp; Sales</th>\n",
       "      <td>0.001243</td>\n",
       "    </tr>\n",
       "  </tbody>\n",
       "</table>\n",
       "</div>"
      ],
      "text/plain": [
       "                             importance\n",
       "Product_Missing                0.922286\n",
       "Business_T_Missing             0.029467\n",
       "ManagAgeui_APP                 0.013769\n",
       "ManagCBscoreui_APP             0.010138\n",
       "Product_TLAPS                  0.001689\n",
       "Business_S_Bedding             0.001610\n",
       "Product_ICWCU                  0.001401\n",
       "Previous_Cibil_max             0.001279\n",
       "Business_S_Fabrication         0.001269\n",
       "Business_A_Job Work & Sales    0.001243"
      ]
     },
     "execution_count": 22,
     "metadata": {},
     "output_type": "execute_result"
    }
   ],
   "source": [
    "# Top features\n",
    "feature_importances = pd.DataFrame(RF.feature_importances_,index = X_train.columns,columns=['importance']).sort_values('importance',  ascending=False)\n",
    "feature_importances.head(10)"
   ]
  }
 ],
 "metadata": {
  "kernelspec": {
   "display_name": "Python 3 (ipykernel)",
   "language": "python",
   "name": "python3"
  },
  "language_info": {
   "codemirror_mode": {
    "name": "ipython",
    "version": 3
   },
   "file_extension": ".py",
   "mimetype": "text/x-python",
   "name": "python",
   "nbconvert_exporter": "python",
   "pygments_lexer": "ipython3",
   "version": "3.9.7"
  }
 },
 "nbformat": 4,
 "nbformat_minor": 4
}
