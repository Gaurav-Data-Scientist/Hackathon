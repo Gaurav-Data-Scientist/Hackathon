{
 "cells": [
  {
   "cell_type": "code",
   "execution_count": null,
   "id": "168b8d0c",
   "metadata": {},
   "outputs": [],
   "source": [
    "# !pip install xgboost\n",
    "# !pip install fuzzywuzzy\n",
    "# !pip install catboost\n",
    "# !pip install scikit-plot"
   ]
  },
  {
   "cell_type": "code",
   "execution_count": 1,
   "id": "862dfece",
   "metadata": {},
   "outputs": [
    {
     "name": "stderr",
     "output_type": "stream",
     "text": [
      "C:\\Users\\DELL\\anaconda3\\lib\\site-packages\\fuzzywuzzy\\fuzz.py:11: UserWarning: Using slow pure-python SequenceMatcher. Install python-Levenshtein to remove this warning\n",
      "  warnings.warn('Using slow pure-python SequenceMatcher. Install python-Levenshtein to remove this warning')\n"
     ]
    }
   ],
   "source": [
    "import numpy as np\n",
    "import pandas as pd\n",
    "from sklearn import metrics\n",
    "import matplotlib.pyplot as plt\n",
    "import seaborn as sns\n",
    "from sklearn.model_selection import train_test_split, GridSearchCV, StratifiedKFold\n",
    "from sklearn.metrics import classification_report\n",
    "from sklearn.ensemble import RandomForestRegressor\n",
    "from mpl_toolkits.mplot3d import axes3d\n",
    "from sklearn.metrics import roc_auc_score\n",
    "from sklearn.metrics import confusion_matrix\n",
    "from sklearn.preprocessing import LabelBinarizer\n",
    "from sklearn.metrics import roc_curve, precision_recall_curve, auc, make_scorer, recall_score, accuracy_score, precision_score, confusion_matrix\n",
    "from pandas.api.types import is_numeric_dtype\n",
    "from xgboost import XGBClassifier\n",
    "import warnings\n",
    "from scipy.stats import kurtosis\n",
    "from fuzzywuzzy import fuzz\n",
    "from catboost import CatBoostClassifier\n",
    "import scikitplot as skplt\n",
    "import pickle\n",
    "\n",
    "warnings.filterwarnings(\"ignore\")\n",
    "pd.set_option('display.max_columns', None)\n",
    "pd.set_option('display.max_rows', 50)\n",
    "pd.set_option('display.max_colwidth', None)"
   ]
  },
  {
   "cell_type": "markdown",
   "id": "f61c9e1a",
   "metadata": {},
   "source": [
    "## Paratemers"
   ]
  },
  {
   "cell_type": "code",
   "execution_count": 2,
   "id": "973c6c8b",
   "metadata": {},
   "outputs": [],
   "source": [
    "path=\"C:\\\\Users\\\\DELL\\\\Desktop\\\\Job Interviews\\\\Navi Technologies\\\\\"\n",
    "filename_1=\"dataset.csv\"             # Modeling Dataset\n",
    "filename_2=\"data_dictionary_v1.xlsx\" # Data Dictionary"
   ]
  },
  {
   "cell_type": "markdown",
   "id": "b32ca08a",
   "metadata": {},
   "source": [
    "### Data Import  "
   ]
  },
  {
   "cell_type": "code",
   "execution_count": 3,
   "id": "691bf90b",
   "metadata": {},
   "outputs": [],
   "source": [
    "class Data_Import:\n",
    "    def data_generate():\n",
    "        data=pd.read_csv(path+filename_1)\n",
    "        data_dictionary=pd.read_excel(path+filename_2)\n",
    "        data_modeling=data[data['label']=='modeling']\n",
    "        data_oot=data[data['label']=='oot']\n",
    "        \n",
    "        print(\"Rows and Columns:\",data_modeling.shape)        \n",
    "        return(data_modeling,data_oot,data_dictionary)    "
   ]
  },
  {
   "cell_type": "code",
   "execution_count": 4,
   "id": "87a6cae4",
   "metadata": {},
   "outputs": [
    {
     "name": "stdout",
     "output_type": "stream",
     "text": [
      "Rows and Columns: (4661, 360)\n",
      "Default rate: 22.51%\n"
     ]
    }
   ],
   "source": [
    "data_modeling, data_oot, data_dictionary= Data_Import.data_generate()\n",
    "data_dictionary_1 = pd.Series(data_dictionary['description'].values,index=data_dictionary['Rename']).to_dict()\n",
    "\n",
    "print(\"Default rate:\",'{:,.2%}'.format(data_modeling['default'].sum()/data_modeling['default'].count()))"
   ]
  },
  {
   "cell_type": "markdown",
   "id": "643c21ad",
   "metadata": {},
   "source": [
    "## Univariate Analysis"
   ]
  },
  {
   "cell_type": "code",
   "execution_count": 5,
   "id": "975a2133",
   "metadata": {},
   "outputs": [
    {
     "data": {
      "text/html": [
       "<div>\n",
       "<style scoped>\n",
       "    .dataframe tbody tr th:only-of-type {\n",
       "        vertical-align: middle;\n",
       "    }\n",
       "\n",
       "    .dataframe tbody tr th {\n",
       "        vertical-align: top;\n",
       "    }\n",
       "\n",
       "    .dataframe thead th {\n",
       "        text-align: right;\n",
       "    }\n",
       "</style>\n",
       "<table border=\"1\" class=\"dataframe\">\n",
       "  <thead>\n",
       "    <tr style=\"text-align: right;\">\n",
       "      <th></th>\n",
       "      <th>count</th>\n",
       "      <th>mean</th>\n",
       "      <th>std</th>\n",
       "      <th>min</th>\n",
       "      <th>25%</th>\n",
       "      <th>50%</th>\n",
       "      <th>75%</th>\n",
       "      <th>max</th>\n",
       "      <th>Rename</th>\n",
       "      <th>description</th>\n",
       "    </tr>\n",
       "  </thead>\n",
       "  <tbody>\n",
       "    <tr>\n",
       "      <th>0</th>\n",
       "      <td>4661.0</td>\n",
       "      <td>0.225059</td>\n",
       "      <td>0.417666</td>\n",
       "      <td>0.0</td>\n",
       "      <td>0.00</td>\n",
       "      <td>0.00</td>\n",
       "      <td>0.00</td>\n",
       "      <td>1.00</td>\n",
       "      <td>default</td>\n",
       "      <td>NaN</td>\n",
       "    </tr>\n",
       "    <tr>\n",
       "      <th>1</th>\n",
       "      <td>3724.0</td>\n",
       "      <td>1.669173</td>\n",
       "      <td>2.758058</td>\n",
       "      <td>0.0</td>\n",
       "      <td>0.00</td>\n",
       "      <td>1.00</td>\n",
       "      <td>2.00</td>\n",
       "      <td>58.00</td>\n",
       "      <td>v1</td>\n",
       "      <td># NEGATIVE EVENTS IN LAST 6 MONTHS (LOANS)</td>\n",
       "    </tr>\n",
       "    <tr>\n",
       "      <th>2</th>\n",
       "      <td>4509.0</td>\n",
       "      <td>290933.140448</td>\n",
       "      <td>978141.889379</td>\n",
       "      <td>0.0</td>\n",
       "      <td>18435.51</td>\n",
       "      <td>52354.00</td>\n",
       "      <td>151006.45</td>\n",
       "      <td>32284841.25</td>\n",
       "      <td>v2</td>\n",
       "      <td>AVG. MONTHLY CREDIT TRANSACTIONS AMOUNT LAST 180 DAYS</td>\n",
       "    </tr>\n",
       "    <tr>\n",
       "      <th>3</th>\n",
       "      <td>4501.0</td>\n",
       "      <td>22127.802742</td>\n",
       "      <td>76844.391372</td>\n",
       "      <td>0.0</td>\n",
       "      <td>1119.82</td>\n",
       "      <td>5608.19</td>\n",
       "      <td>16446.96</td>\n",
       "      <td>3117544.20</td>\n",
       "      <td>v3</td>\n",
       "      <td>AVG. OF MINIMUM BALANCE PER MONTH LAST 360 DAYS</td>\n",
       "    </tr>\n",
       "    <tr>\n",
       "      <th>4</th>\n",
       "      <td>4444.0</td>\n",
       "      <td>0.143114</td>\n",
       "      <td>0.527220</td>\n",
       "      <td>0.0</td>\n",
       "      <td>0.00</td>\n",
       "      <td>0.00</td>\n",
       "      <td>0.00</td>\n",
       "      <td>7.00</td>\n",
       "      <td>v4</td>\n",
       "      <td># RECHARGES LAST 150-180 DAYS</td>\n",
       "    </tr>\n",
       "  </tbody>\n",
       "</table>\n",
       "</div>"
      ],
      "text/plain": [
       "    count           mean            std  min       25%       50%        75%  \\\n",
       "0  4661.0       0.225059       0.417666  0.0      0.00      0.00       0.00   \n",
       "1  3724.0       1.669173       2.758058  0.0      0.00      1.00       2.00   \n",
       "2  4509.0  290933.140448  978141.889379  0.0  18435.51  52354.00  151006.45   \n",
       "3  4501.0   22127.802742   76844.391372  0.0   1119.82   5608.19   16446.96   \n",
       "4  4444.0       0.143114       0.527220  0.0      0.00      0.00       0.00   \n",
       "\n",
       "           max   Rename                                            description  \n",
       "0         1.00  default                                                    NaN  \n",
       "1        58.00       v1             # NEGATIVE EVENTS IN LAST 6 MONTHS (LOANS)  \n",
       "2  32284841.25       v2  AVG. MONTHLY CREDIT TRANSACTIONS AMOUNT LAST 180 DAYS  \n",
       "3   3117544.20       v3        AVG. OF MINIMUM BALANCE PER MONTH LAST 360 DAYS  \n",
       "4         7.00       v4                          # RECHARGES LAST 150-180 DAYS  "
      ]
     },
     "execution_count": 5,
     "metadata": {},
     "output_type": "execute_result"
    }
   ],
   "source": [
    "data_EDA=data_modeling.copy()\n",
    "\n",
    "def data_summary():\n",
    "    data_summary=data_EDA.describe().T\n",
    "    data_summary['Rename']=data_summary.index\n",
    "    data_summary=pd.merge(left = data_summary, right = data_dictionary, left_on='Rename', right_on='Rename', how='left')\n",
    "    return(data_summary)\n",
    "\n",
    "data_summary().head()"
   ]
  },
  {
   "cell_type": "code",
   "execution_count": 6,
   "id": "5a28a55b",
   "metadata": {},
   "outputs": [
    {
     "name": "stdout",
     "output_type": "stream",
     "text": [
      "distance_from_pin_code\n"
     ]
    },
    {
     "data": {
      "image/png": "[encoded data removed]",
      "text/plain": [
       "<Figure size 432x288 with 1 Axes>"
      ]
     },
     "metadata": {
      "needs_background": "light"
     },
     "output_type": "display_data"
    },
    {
     "data": {
      "image/png": "[encoded data removed]",
      "text/plain": [
       "<Figure size 432x288 with 1 Axes>"
      ]
     },
     "metadata": {
      "needs_background": "light"
     },
     "output_type": "display_data"
    }
   ],
   "source": [
    "# for numerical variables\n",
    "def Distribution(col):\n",
    "    plt.figure(figsize=(6,4))\n",
    "    data_EDA[data_EDA['default']==1][col].hist(alpha=0.5,color='black', bins=30,label='default=1')\n",
    "    data_EDA[data_EDA['default']==0][col].hist(alpha=0.5,color='red', bins=30,label='default=0')\n",
    "    plt.legend()\n",
    "    plt.xlabel(col)\n",
    "    plt.title('Histogram by default catgory')\n",
    "\n",
    "def percentile_plot(variable):\n",
    "    a=[i/10 for i in list(range(1,11))]\n",
    "    plt.plot(data_EDA[[variable]].apply(lambda x: x.quantile(a)))\n",
    "    plt.title('Percentile plot')\n",
    "\n",
    "var = 'v38'\n",
    "print(data_dictionary_1[var])\n",
    "percentile_plot(var)\n",
    "Distribution(var)"
   ]
  },
  {
   "cell_type": "code",
   "execution_count": 7,
   "id": "c3df3ae1",
   "metadata": {},
   "outputs": [
    {
     "name": "stdout",
     "output_type": "stream",
     "text": [
      "No of unique values: 6\n"
     ]
    },
    {
     "data": {
      "image/png": "[encoded data removed]",
      "text/plain": [
       "<Figure size 1440x216 with 1 Axes>"
      ]
     },
     "metadata": {
      "needs_background": "light"
     },
     "output_type": "display_data"
    }
   ],
   "source": [
    "# for chategorical variables (will be helpful to check data quality)\n",
    "def Histogram_plot(variable):\n",
    "    print('No of unique values:',data_EDA[variable].nunique())\n",
    "    fig, ax = plt.subplots(figsize=(20, 3))\n",
    "    sns.countplot(data_EDA[variable])\n",
    "    \n",
    "Histogram_plot('network_type')"
   ]
  },
  {
   "cell_type": "markdown",
   "id": "7ffd7da0",
   "metadata": {},
   "source": [
    "## Missing value treatment"
   ]
  },
  {
   "cell_type": "code",
   "execution_count": 8,
   "id": "caf2985a",
   "metadata": {},
   "outputs": [],
   "source": [
    "class EDA:            \n",
    "        def missing_value_check(df):\n",
    "            data_missing=pd.DataFrame(df.isna().sum().where(lambda x : x>0).dropna()) \n",
    "            data_missing.columns=['Missing Count']\n",
    "            data_missing['pct_missing']=round(data_missing['Missing Count']*100/df.shape[0],1)\n",
    "            data_missing['Rename']=data_missing.index.values\n",
    "            data_missing = pd.merge(left = data_missing, right = data_dictionary, left_on='Rename', right_on='Rename', how='left')\n",
    "            return(data_missing)\n",
    "            \n",
    "        def missing_value_treatment(df,Missing_treatment):\n",
    "            Name=[]\n",
    "            Value=[]\n",
    "\n",
    "            for i,(fun,variable) in enumerate(Missing_treatment.items()):\n",
    "                if fun=='avg':\n",
    "                    for j in variable:\n",
    "                        df[j]=df[j].fillna(df[j].mean())\n",
    "                        Name.append(j)\n",
    "                        Value.append(data_modeling[j].mean())\n",
    "\n",
    "\n",
    "                if fun=='zero':\n",
    "                    for j in variable:\n",
    "                        df[j]=df[j].fillna(0)\n",
    "                        Name.append(j)\n",
    "                        Value.append(0)\n",
    "\n",
    "                if fun=='Frequency':\n",
    "                    for j in variable.tolist():\n",
    "                        df[j]=df[j].fillna(pd.Series(df[j].value_counts()).sort_values(ascending=False).index.tolist()[0])\n",
    "                        Name.append(j)\n",
    "                        Value.append(pd.Series(df[j].value_counts()).sort_values(ascending=False).index.tolist()[0])\n",
    "            Missing_Impute=pd.DataFrame(zip(Name,Value), columns=['Variable','Missing_value_treated'])                     \n",
    "            return(df,Missing_Impute)"
   ]
  },
  {
   "cell_type": "code",
   "execution_count": 9,
   "id": "f7f50d27",
   "metadata": {},
   "outputs": [
    {
     "name": "stdout",
     "output_type": "stream",
     "text": [
      " v27: AVG. DAILY DEBIT LAST 30 DAYS BY AVG. DAILY DEBIT LAST 60-120 DAYS \n",
      " v90: AVG. MONTHLY CREDIT LAST 30 DAYS BY AVG. MONTHLY CREDIT LAST 60-120 DAYS \n",
      " v131: AVG. MONTHLY DEBIT LAST 30 DAYS BY AVG. MONTHLY DEBIT LAST 60-120 DAYS \n",
      " v260: AVG. ATM WITHDRAWAL AMOUNT PER TRANSACTION LAST 360 DAYS \n",
      " v300: AVG. ATM WITHDRAWAL AMOUNT PER TRANSACTION LIFETIME\n"
     ]
    },
    {
     "data": {
      "image/png": "[encoded data removed]",
      "text/plain": [
       "<Figure size 1440x216 with 1 Axes>"
      ]
     },
     "metadata": {
      "needs_background": "light"
     },
     "output_type": "display_data"
    }
   ],
   "source": [
    "data_missing = EDA.missing_value_check(data_modeling)\n",
    "\n",
    "# Checking top variables which have highest missing values\n",
    "Variables_excluded=['cloned_details','allow_mock_locations','otp_autofill','default']\n",
    "fig, ax = plt.subplots(figsize=(20, 3))\n",
    "sns.barplot(y='pct_missing', x='Rename', data=data_missing[~data_missing['Rename'].isin(Variables_excluded)].sort_values(by='pct_missing',ascending=False).head(5))\n",
    "plt.title(\"Top variables which have highest missing values\")\n",
    "print(' v27:',data_dictionary_1['v27'],'\\n','v90:',data_dictionary_1['v90'],'\\n','v131:',data_dictionary_1['v131'],'\\n','v260:',data_dictionary_1['v260'],'\\n','v300:',data_dictionary_1['v300'])\n",
    "\n",
    "columns_zero=['v1',\t'v4',\t'v7',\t'v9',\t'v13',\t'v16',\t'v20',\t'v21',\t'v22',\t'v26',\t'v29',\t'v35',\t'v36',\t'v37',\t'v40',\t'v44',\t'v47',\t'v50',\t'v52',\t'v54',\t'v68',\t'v71',\t'v73',\t'v84',\t'v85',\t'v86',\t'v88',\t'v92',\t'v94',\t'v99',\t'v101',\t'v112',\t'v116',\t'v117',\t'v122',\t'v123',\t'v128',\t'v130',\t'v132',\t'v134',\t'v137',\t'v139',\t'v140',\t'v146',\t'v151',\t'v158',\t'v160',\t'v163',\t'v165',\t'v166',\t'v170',\t'v175',\t'v176',\t'v183',\t'v184',\t'v185',\t'v187',\t'v188',\t'v196',\t'v198',\t'v199',\t'v200',\t'v213',\t'v218',\t'v220',\t'v221',\t'v226',\t'v232',\t'v234',\t'v240',\t'v242',\t'v243',\t'v245',\t'v246',\t'v249',\t'v252',\t'v255',\t'v273',\t'v274',\t'v276',\t'v277',\t'v278',\t'v283',\t'v285',\t'v286',\t'v289',\t'v290',\t'v294',\t'v295',\t'v298',\t'v299',\t'v302',\t'v304',\t'v305',\t'v310',\t'v312',\t'v313',\t'v315',\t'v316',\t'v319',\t'v324',\t'v325',\t'v326',\t'v327',\t'v331',\t'v333',\t'v342']\n",
    "columns_num=data_modeling.select_dtypes(exclude=np.object).columns\n",
    "columns_num=list(filter(lambda x: x not in columns_zero, columns_num.tolist()))\n",
    "columns_char=data_modeling.select_dtypes(include=np.object).columns\n",
    "\n",
    "#Creating a dictionary to store missing treatment applied for each column\n",
    "Missing_treatment = {\"avg\":columns_num, \"zero\":columns_zero, \"Frequency\":columns_char}\n",
    "Missing_treatment_file = open('Missing_treatment_pkl', 'wb')\n",
    "pickle.dump(Missing_treatment, Missing_treatment_file)\n",
    "Missing_treatment_file.close()\n",
    "\n",
    "data_modeling_treated, Missing_Impute=EDA.missing_value_treatment(data_modeling,Missing_treatment)\n",
    "\n",
    "Missing_Impute_file = open('Missing_Impute_pkl', 'wb')\n",
    "pickle.dump(Missing_Impute, Missing_Impute_file)\n",
    "Missing_Impute_file.close()\n"
   ]
  },
  {
   "cell_type": "markdown",
   "id": "3333bab8",
   "metadata": {},
   "source": [
    "## Bivariate Analysis\n",
    "\n",
    "Checking the relationship of a variable with default rate. Will be useful to validate the hypothesis- how default rate vary wrt to a variable"
   ]
  },
  {
   "cell_type": "code",
   "execution_count": 10,
   "id": "18aae652",
   "metadata": {},
   "outputs": [
    {
     "name": "stdout",
     "output_type": "stream",
     "text": [
      "Default Response Rate: 22.51% \n",
      "\n",
      "2G has the highest default rate. Maybe because these customers have low financial stability that's why they are using low budgeted phone (non 3G/4G supported)\n",
      "\n"
     ]
    },
    {
     "data": {
      "image/png": "[encoded data removed]",
      "text/plain": [
       "<Figure size 1440x216 with 1 Axes>"
      ]
     },
     "metadata": {
      "needs_background": "light"
     },
     "output_type": "display_data"
    },
    {
     "data": {
      "image/png": "[encoded data removed]",
      "text/plain": [
       "<Figure size 1440x216 with 1 Axes>"
      ]
     },
     "metadata": {
      "needs_background": "light"
     },
     "output_type": "display_data"
    }
   ],
   "source": [
    "print('Default Response Rate:','{:,.2%}'.format(data_modeling_treated['default'].sum()/data_modeling_treated['default'].count()),'\\n')\n",
    "data_EDA=data_modeling_treated.copy()\n",
    "\n",
    "def RR_char_variable(col):\n",
    "    RR_temp = data_EDA.groupby(col)['default'].agg(['sum','count'])\n",
    "    RR_temp['RR']=RR_temp['sum']/RR_temp['count']\n",
    "    fig, ax = plt.subplots(figsize=(20, 3))\n",
    "    sns.barplot(y=RR_temp['RR'], x=RR_temp.index)\n",
    "    plt.title(\"Category wise default rate\")\n",
    "\n",
    "def RR_numeric_variable(variable):\n",
    "    Decile_temp=data_EDA\n",
    "    Decile_temp['Decile'] = pd.qcut(Decile_temp[variable], 10,labels = False, duplicates='drop') \n",
    "\n",
    "    RR_temp = Decile_temp.groupby('Decile').agg({variable:['mean'], 'default':['sum','count']})\n",
    "    RR_temp.columns=['Var','sum','count']\n",
    "    RR_temp['RR']=RR_temp['sum']/RR_temp['count']\n",
    "    fig, ax = plt.subplots(figsize=(20, 3))\n",
    "    fig=sns.lineplot(y=RR_temp['RR'], x=RR_temp['Var'])\n",
    "    plt.xlabel(variable+\":\"+data_dictionary_1['v178'])\n",
    "    plt.title(\"Decile value wise default rate\")\n",
    "\n",
    "RR_char_variable('network_type'); print(\"2G has the highest default rate. Maybe because these customers have low financial stability that's why they are using low budgeted phone (non 3G/4G supported)\")\n",
    "RR_numeric_variable('v178'); print(\"\")"
   ]
  },
  {
   "cell_type": "markdown",
   "id": "cba8ea79",
   "metadata": {},
   "source": [
    "## Information value\n",
    "\n"
   ]
  },
  {
   "cell_type": "code",
   "execution_count": 11,
   "id": "3bfa5d78",
   "metadata": {},
   "outputs": [
    {
     "data": {
      "text/html": [
       "<div>\n",
       "<style scoped>\n",
       "    .dataframe tbody tr th:only-of-type {\n",
       "        vertical-align: middle;\n",
       "    }\n",
       "\n",
       "    .dataframe tbody tr th {\n",
       "        vertical-align: top;\n",
       "    }\n",
       "\n",
       "    .dataframe thead th {\n",
       "        text-align: right;\n",
       "    }\n",
       "</style>\n",
       "<table border=\"1\" class=\"dataframe\">\n",
       "  <thead>\n",
       "    <tr style=\"text-align: right;\">\n",
       "      <th></th>\n",
       "      <th>Rename</th>\n",
       "      <th>IV</th>\n",
       "      <th>description</th>\n",
       "    </tr>\n",
       "  </thead>\n",
       "  <tbody>\n",
       "    <tr>\n",
       "      <th>0</th>\n",
       "      <td>v173</td>\n",
       "      <td>0.267861</td>\n",
       "      <td>count_of_unique_banks_having_casa_relationships_with</td>\n",
       "    </tr>\n",
       "    <tr>\n",
       "      <th>1</th>\n",
       "      <td>v174</td>\n",
       "      <td>0.256896</td>\n",
       "      <td>AVG. DAILY CREDIT TRANSACTIONS AMOUNT LAST 30 DAYS</td>\n",
       "    </tr>\n",
       "    <tr>\n",
       "      <th>2</th>\n",
       "      <td>v288</td>\n",
       "      <td>0.254428</td>\n",
       "      <td>AVERAGE SURPLUS PER MONTH</td>\n",
       "    </tr>\n",
       "    <tr>\n",
       "      <th>3</th>\n",
       "      <td>v284</td>\n",
       "      <td>0.247866</td>\n",
       "      <td>count_casa_accounts</td>\n",
       "    </tr>\n",
       "    <tr>\n",
       "      <th>4</th>\n",
       "      <td>v262</td>\n",
       "      <td>0.240492</td>\n",
       "      <td>total_credit_transaction_amount_last_30_days</td>\n",
       "    </tr>\n",
       "  </tbody>\n",
       "</table>\n",
       "</div>"
      ],
      "text/plain": [
       "  Rename        IV                                           description\n",
       "0   v173  0.267861  count_of_unique_banks_having_casa_relationships_with\n",
       "1   v174  0.256896    AVG. DAILY CREDIT TRANSACTIONS AMOUNT LAST 30 DAYS\n",
       "2   v288  0.254428                             AVERAGE SURPLUS PER MONTH\n",
       "3   v284  0.247866                                   count_casa_accounts\n",
       "4   v262  0.240492          total_credit_transaction_amount_last_30_days"
      ]
     },
     "execution_count": 11,
     "metadata": {},
     "output_type": "execute_result"
    }
   ],
   "source": [
    "def IV(col, data_EDA):\n",
    "    if is_numeric_dtype(data_EDA[col])==False:\n",
    "        IV_temp = data_EDA.groupby(col)['default'].agg(['sum','count'])\n",
    "    elif is_numeric_dtype(data_EDA[col])==True:\n",
    "        data_EDA['Decile'] = pd.qcut(data_EDA[col], 10,labels = False, duplicates='drop') \n",
    "        IV_temp = data_EDA.groupby('Decile')['default'].agg(['sum','count'])\n",
    "    \n",
    "    IV_temp['Goods']=IV_temp['sum']\n",
    "    IV_temp['Bad']=(IV_temp['count']-IV_temp['sum'])\n",
    "    IV_temp['percent_Goods']=IV_temp['Goods']/IV_temp['Goods'].sum()\n",
    "    IV_temp['percent_Bads']=IV_temp['Bad']/IV_temp['Bad'].sum()\n",
    "    IV_temp['IV']=np.log(IV_temp['percent_Goods']/IV_temp['percent_Bads'])*(IV_temp['percent_Goods'] - IV_temp['percent_Bads'])\n",
    "    IV_temp.replace([np.inf, -np.inf], np.nan, inplace=True)\n",
    "    IV_temp.dropna(inplace=True)\n",
    "    return IV_temp['IV'].sum()\n",
    "\n",
    "Value=[]\n",
    "Variable=[]\n",
    "\n",
    "for i in data_dictionary_1.keys():\n",
    "    Value.append(IV(i,data_EDA))\n",
    "    Variable.append(i)\n",
    "\n",
    "Information_value=pd.DataFrame(list(zip(Variable,Value)), columns=['Rename','IV'])\n",
    "Information_value=Information_value[Information_value['IV']>0.1].sort_values(by='IV', ascending=False)\n",
    "Information_value=pd.merge(left = Information_value, right = data_dictionary, left_on='Rename', right_on='Rename', how='left')\n",
    "Information_value.head(5)"
   ]
  },
  {
   "cell_type": "markdown",
   "id": "8e02920f",
   "metadata": {},
   "source": [
    "## Feature Engineering"
   ]
  },
  {
   "cell_type": "code",
   "execution_count": 12,
   "id": "52072d50",
   "metadata": {},
   "outputs": [
    {
     "data": {
      "text/html": [
       "<div>\n",
       "<style scoped>\n",
       "    .dataframe tbody tr th:only-of-type {\n",
       "        vertical-align: middle;\n",
       "    }\n",
       "\n",
       "    .dataframe tbody tr th {\n",
       "        vertical-align: top;\n",
       "    }\n",
       "\n",
       "    .dataframe thead th {\n",
       "        text-align: right;\n",
       "    }\n",
       "</style>\n",
       "<table border=\"1\" class=\"dataframe\">\n",
       "  <thead>\n",
       "    <tr style=\"text-align: right;\">\n",
       "      <th></th>\n",
       "      <th>Rename</th>\n",
       "      <th>IV</th>\n",
       "    </tr>\n",
       "  </thead>\n",
       "  <tbody>\n",
       "    <tr>\n",
       "      <th>0</th>\n",
       "      <td>New_v1</td>\n",
       "      <td>0.071807</td>\n",
       "    </tr>\n",
       "    <tr>\n",
       "      <th>1</th>\n",
       "      <td>New_v2</td>\n",
       "      <td>0.351322</td>\n",
       "    </tr>\n",
       "    <tr>\n",
       "      <th>2</th>\n",
       "      <td>New_v3</td>\n",
       "      <td>0.085384</td>\n",
       "    </tr>\n",
       "    <tr>\n",
       "      <th>3</th>\n",
       "      <td>New_v4</td>\n",
       "      <td>0.024298</td>\n",
       "    </tr>\n",
       "  </tbody>\n",
       "</table>\n",
       "</div>"
      ],
      "text/plain": [
       "   Rename        IV\n",
       "0  New_v1  0.071807\n",
       "1  New_v2  0.351322\n",
       "2  New_v3  0.085384\n",
       "3  New_v4  0.024298"
      ]
     },
     "execution_count": 12,
     "metadata": {},
     "output_type": "execute_result"
    }
   ],
   "source": [
    "Network = ['Jio','Airtel','Idea','BSNL','Vodafone','Vi','CELLONE'] # list of all network providers\n",
    "Brand   =['OPPO', 'vivo', 'samsung', 'Xiaomi', 'HONOR'] # list of all phone brands\n",
    "\n",
    "class Fuzzy_Matching:\n",
    "    \n",
    "    def Network_matching_function(x):\n",
    "            Ratio=[]\n",
    "            for i in Network:\n",
    "                Ratio.append(fuzz.ratio(x['carrier'].lower(),i.lower()))\n",
    "            return(Network[Ratio.index(max(Ratio))])\n",
    "\n",
    "    def Brand_matching_function(x):\n",
    "            Ratio=[]\n",
    "            for i in Brand:\n",
    "                Ratio.append(fuzz.ratio(x['brand'].lower(),i.lower()))\n",
    "            return(Brand[Ratio.index(max(Ratio))])\n",
    "\n",
    "class Feature_Engineering:\n",
    "    \n",
    "    def New_Feature(data):\n",
    "        \"Feature 1- [LOAN DISBURSEMENT AMOUNT LAST 180 DAYS] / [MONTHLY AVERAGE BALANCE LAST 180 DAYS]\"\n",
    "        data['New_v1']=data['v10']/(data['v108']+0.0000001)\n",
    "\n",
    "        \"Feature 2- Phone manufacturer (spelling correction)\"\n",
    "        data['New_v2']=data[['manufacturer']].apply(lambda x: x if (x.str.len() < 12).all() else 'None', axis=1)\n",
    "\n",
    "        \"Feature 3- Phone network (spelling correction)\"\n",
    "        data['carrier'].fillna('None',inplace=True)        \n",
    "        data['New_v3']=data[['carrier']].apply(Fuzzy_Matching.Network_matching_function,  axis=1)\n",
    "\n",
    "        \"Feature 4- Phone brand (spelling correction)\"\n",
    "        data['brand'].fillna('None',inplace=True)        \n",
    "        data['New_v4']=data[['brand']].apply(Fuzzy_Matching.Brand_matching_function,  axis=1)\n",
    "\n",
    "        return(data)\n",
    "    \n",
    "    def New_Feature_IV(data, New_features):\n",
    "        Value=[]\n",
    "        Variable=[]\n",
    "        for i in New_features:\n",
    "            Value.append(IV(i,data))\n",
    "            Variable.append(i)\n",
    "            Information_value=pd.DataFrame(list(zip(Variable,Value)), columns=['Rename','IV'])\n",
    "        return(Information_value)\n",
    "\n",
    "New_features=['New_v1','New_v2','New_v3','New_v4']\n",
    "\n",
    "data_modeling_featured=Feature_Engineering.New_Feature(data_modeling_treated)\n",
    "\n",
    "Information_value_New_Feature=Feature_Engineering.New_Feature_IV(data_modeling_featured,New_features)\n",
    "Information_value_New_Feature.head()"
   ]
  },
  {
   "cell_type": "markdown",
   "id": "3a282a64",
   "metadata": {},
   "source": [
    "## Model Building"
   ]
  },
  {
   "cell_type": "code",
   "execution_count": 13,
   "id": "86b2b3ea",
   "metadata": {},
   "outputs": [
    {
     "name": "stdout",
     "output_type": "stream",
     "text": [
      "Training (Row, Columns): (3728, 360) (3728,)\n",
      "Testing (Row, Columns): (933, 360) (933,) \n",
      "\n",
      "Default rate (Train): 22.83%\n",
      "Default rate (Test): 21.22%\n"
     ]
    },
    {
     "data": {
      "application/vnd.jupyter.widget-view+json": {
       "model_id": "b9d9aabec5a0411295ddafc2b2c57418",
       "version_major": 2,
       "version_minor": 0
      },
      "text/plain": [
       "MetricVisualizer(layout=Layout(align_self='stretch', height='500px'))"
      ]
     },
     "metadata": {},
     "output_type": "display_data"
    },
    {
     "name": "stdout",
     "output_type": "stream",
     "text": [
      "ROC Score: 59.58%\n",
      "Accuracy 80.49%\n",
      "Precision: 95.92%\n",
      "Recall: 82.26%\n",
      "\n",
      " Confusion Matrix: \n",
      " [[705  30]\n",
      " [152  46]]\n"
     ]
    },
    {
     "data": {
      "image/png": "[encoded data removed]",
      "text/plain": [
       "<Figure size 432x288 with 1 Axes>"
      ]
     },
     "metadata": {
      "needs_background": "light"
     },
     "output_type": "display_data"
    }
   ],
   "source": [
    "class Model_training:\n",
    "    \n",
    "    def train_test_split(df):\n",
    "        Non_modeling_variables=['decision_id','label','gms_version','default','default_treated','Decile']\n",
    "        X_train, X_test, y_train, y_test = train_test_split(df.loc[:,~df.columns.isin(Non_modeling_variables)], df['default'], test_size = 0.2, random_state = 42)\n",
    "\n",
    "        print('Training (Row, Columns):', X_train.shape, y_train.shape)\n",
    "        print('Testing (Row, Columns):', X_test.shape, y_test.shape,\"\\n\")\n",
    "        print(\"Default rate (Train):\",'{:,.2%}'.format(sum(y_train)/len(y_train)))\n",
    "        print(\"Default rate (Test):\",'{:,.2%}'.format(sum(y_test)/len(y_test)))\n",
    "        return(X_train, X_test, y_train, y_test)\n",
    "    \n",
    "    def Modeling(df1, df2, df3, df4):\n",
    "        categorical_features_indices = np.where(df1.dtypes != np.float)[0]\n",
    "        Catboost = CatBoostClassifier(iterations=300, depth=10,cat_features=categorical_features_indices,\n",
    "                              learning_rate=0.03, loss_function='Logloss',eval_metric='AUC',verbose=False)\n",
    "        Catboost.fit(df1, df3, cat_features=None, plot=True)\n",
    "        Predict=Catboost.predict(df2)\n",
    "        Predict_prob= np.min(Catboost.predict_proba(df2), axis=1)\n",
    "        return(Predict, Predict_prob, Catboost)\n",
    "        \n",
    "    def Metric(y_test,Predict):\n",
    "        print(\"ROC Score:\", '{:,.2%}'.format(roc_auc_score(y_test, Predict)))\n",
    "        print(\"Accuracy\", '{:,.2%}'.format(metrics.accuracy_score(y_test, Predict.round())))\n",
    "        print('Precision:', '{:,.2%}'.format(confusion_matrix(y_test, Predict.round())[0][0]/sum(confusion_matrix(y_test, Predict.round())[0])))\n",
    "        print('Recall:','{:,.2%}'.format(confusion_matrix(y_test, Predict.round())[0][0]/(confusion_matrix(y_test, Predict.round())[0][0]+confusion_matrix(y_test, Predict.round())[1][0])))\n",
    "        print('\\n','Confusion Matrix:','\\n',confusion_matrix(y_test, Predict.round()))\n",
    "\n",
    "    def Feature_importance(Catboost):\n",
    "        \n",
    "        feature_importances = pd.DataFrame(Catboost.feature_importances_,index = X_train.columns,columns=['importance']).sort_values('importance',  ascending=False)\n",
    "        feature_importances['Rename']=feature_importances.index\n",
    "        feature_importances=pd.merge(left = feature_importances, right = data_dictionary, left_on='Rename', right_on='Rename', how='left')\n",
    "        feature_importances = pd.Series(Catboost.feature_importances_, index = X_train.columns)\n",
    "        feature_importances.nlargest(10).plot(kind='barh')\n",
    "        plt.title(\"Feature Importance (Top 10)\")\n",
    "    \n",
    "    def Model_Inference(df,Catboost):\n",
    "        Predict_prob= np.min(Catboost.predict_proba(df), axis=1)\n",
    "        return(Predict_prob)\n",
    "    \n",
    "    def Model_save(Catboost):\n",
    "        with open('Catboost_model_pkl', 'wb') as files:\n",
    "            pickle.dump(Catboost, files)\n",
    "\n",
    "    def Model_load():\n",
    "        with open('Catboost_model_pkl' , 'rb') as f:\n",
    "            Catboost_Inference = pickle.load(f)\n",
    "        return(Catboost_Inference)\n",
    "    \n",
    "    def Depandencies_load():            \n",
    "        with open('Missing_Impute_pkl' , 'rb') as f:\n",
    "            Missing_Impute = pickle.load(f)\n",
    "        return(Missing_Impute)\n",
    "\n",
    "    def missing_value_treatment_inference(df,Missing_Impute):    \n",
    "        Missing_Impute=pd.Series(Missing_Impute['Missing_value_treated'].values,index=Missing_Impute['Variable']).to_dict()\n",
    "        for i in Missing_Impute.keys():\n",
    "            df[i].fillna(Missing_Impute[i], inplace=True)\n",
    "        return(df)\n",
    "\n",
    "X_train, X_test, y_train, y_test=Model_training.train_test_split(data_modeling_featured)\n",
    "Predict, Predict_prob, Catboost=Model_training.Modeling(X_train, X_test, y_train, y_test)\n",
    "Model_training.Metric(y_test,Predict)\n",
    "Model_training.Feature_importance(Catboost)\n",
    "\n",
    "Model_training.Model_save(Catboost)"
   ]
  },
  {
   "cell_type": "markdown",
   "id": "76de020f",
   "metadata": {},
   "source": [
    "## RoC Curve"
   ]
  },
  {
   "cell_type": "code",
   "execution_count": 14,
   "id": "fabd575f",
   "metadata": {},
   "outputs": [
    {
     "name": "stdout",
     "output_type": "stream",
     "text": [
      "AUC 59.58%\n"
     ]
    },
    {
     "data": {
      "text/plain": [
       "Text(0.5, 1.0, 'Receiver operating characteristic example')"
      ]
     },
     "execution_count": 14,
     "metadata": {},
     "output_type": "execute_result"
    },
    {
     "data": {
      "image/png": "[encoded data removed]",
      "text/plain": [
       "<Figure size 432x288 with 1 Axes>"
      ]
     },
     "metadata": {
      "needs_background": "light"
     },
     "output_type": "display_data"
    }
   ],
   "source": [
    "# ROC Curve\n",
    "fpr, tpr, _ = metrics.roc_curve(y_test,  Predict.round())\n",
    "auc = metrics.roc_auc_score(y_test, Predict.round())\n",
    "print(\"AUC\",'{:,.2%}'.format(auc))\n",
    "plt.plot(fpr,tpr)\n",
    "plt.xlabel('False Positive Rate')\n",
    "plt.ylabel('True Positive Rate')\n",
    "plt.title('Receiver operating characteristic example')"
   ]
  },
  {
   "cell_type": "markdown",
   "id": "5ff83ec9",
   "metadata": {},
   "source": [
    "## KS table and Gain chart"
   ]
  },
  {
   "cell_type": "code",
   "execution_count": 15,
   "id": "a000bc1f",
   "metadata": {},
   "outputs": [
    {
     "name": "stdout",
     "output_type": "stream",
     "text": [
      "   Decile  default  non_default  Default_Rate  pct_default  pct_non_default  cumm_pct_default  cumm_pct_non_default Difference\n",
      "0       1     46.0         48.0      0.489362     0.232323         0.065306          0.232323              0.065306     16.70%\n",
      "1       2     32.0         61.0      0.344086     0.161616         0.082993          0.393939              0.148299     24.56%\n",
      "2       3     27.0         66.0      0.290323     0.136364         0.089796          0.530303              0.238095     29.22%\n",
      "3       4     23.0         70.0      0.247312     0.116162         0.095238          0.646465              0.333333     31.31%\n",
      "4       5     20.0         73.0      0.215054     0.101010         0.099320          0.747475              0.432653     31.48%\n",
      "5       6     13.0         81.0      0.138298     0.065657         0.110204          0.813131              0.542857     27.03%\n",
      "6       7     15.0         78.0      0.161290     0.075758         0.106122          0.888889              0.648980     23.99%\n",
      "7       8      8.0         85.0      0.086022     0.040404         0.115646          0.929293              0.764626     16.47%\n",
      "8       9      8.0         85.0      0.086022     0.040404         0.115646          0.969697              0.880272      8.94%\n",
      "9      10      6.0         88.0      0.063830     0.030303         0.119728          1.000000              1.000000      0.00% \n",
      "\n",
      " KS: 31.48%\n"
     ]
    },
    {
     "data": {
      "image/png": "[encoded data removed]",
      "text/plain": [
       "<Figure size 432x288 with 1 Axes>"
      ]
     },
     "metadata": {
      "needs_background": "light"
     },
     "output_type": "display_data"
    }
   ],
   "source": [
    "Actual_Predict=pd.DataFrame(zip(y_test,Predict_prob), columns=['Actual','Predict'])\n",
    "\n",
    "Actual_Predict['Decile'] =10-pd.qcut(Actual_Predict['Predict'], 10, labels = False, duplicates='drop') \n",
    "KS_table= Actual_Predict.groupby('Decile')['Actual'].agg(['sum','count']).reset_index()\n",
    "KS_table['default']=KS_table['sum']\n",
    "KS_table['non_default']=KS_table['count'] - KS_table['sum']\n",
    "KS_table['Default_Rate']=KS_table['default']/KS_table['count'] \n",
    "KS_table.drop(['sum','count'],axis=1, inplace=True)\n",
    "\n",
    "KS_table['pct_default']=KS_table['default']/KS_table['default'].sum()\n",
    "KS_table['pct_non_default']=KS_table['non_default']/KS_table['non_default'].sum()\n",
    "KS_table['cumm_pct_default']=KS_table['pct_default'].cumsum()\n",
    "KS_table['cumm_pct_non_default']=KS_table['pct_non_default'].cumsum()\n",
    "\n",
    "KS_table['Difference']=KS_table['cumm_pct_default'] - KS_table['cumm_pct_non_default'] \n",
    "KS_table_1 = KS_table.to_string(formatters={'Difference': '{:,.2%}'.format})\n",
    "print(KS_table_1, '\\n\\n', \"KS:\", '{:,.2%}'.format(KS_table['Difference'].max()))\n",
    "\n",
    "skplt.metrics.plot_cumulative_gain(y_test, Catboost.predict_proba(X_test))\n",
    "plt.show()"
   ]
  },
  {
   "cell_type": "markdown",
   "id": "b919b24f",
   "metadata": {},
   "source": [
    "## Model Inferencing \n",
    "Scoring 'oot' data"
   ]
  },
  {
   "cell_type": "code",
   "execution_count": 16,
   "id": "542b2315",
   "metadata": {},
   "outputs": [],
   "source": [
    "# Loading the model and dependancies \n",
    "Catboost_Model_Inference = Model_training.Model_load()\n",
    "Missing_Impute = Model_training.Depandencies_load()\n",
    "\n",
    "# Pre-processing pipeline (Imputing missing values calculated from training dataset)\n",
    "data_oot_treated=Model_training.missing_value_treatment_inference(data_oot,Missing_Impute)\n",
    "data_oot_featured=Feature_Engineering.New_Feature(data_oot_treated)\n",
    "\n",
    "# Model scoring\n",
    "Non_modeling_variables=['decision_id','label','gms_version','default','default_treated','Decile']\n",
    "X_oot = data_oot_featured.loc[:,~data_oot_featured.columns.isin(Non_modeling_variables)]\n",
    "Scoring= np.min(Catboost_Model_Inference.predict_proba(X_oot), axis=1)\n",
    "\n",
    "# Submission file\n",
    "Submission=data_oot_featured[['decision_id','label']]\n",
    "Submission['pd']=Scoring\n",
    "Submission.to_csv('Submission.csv')"
   ]
  },
  {
   "cell_type": "code",
   "execution_count": 17,
   "id": "bba07269",
   "metadata": {},
   "outputs": [
    {
     "data": {
      "text/html": [
       "<div>\n",
       "<style scoped>\n",
       "    .dataframe tbody tr th:only-of-type {\n",
       "        vertical-align: middle;\n",
       "    }\n",
       "\n",
       "    .dataframe tbody tr th {\n",
       "        vertical-align: top;\n",
       "    }\n",
       "\n",
       "    .dataframe thead th {\n",
       "        text-align: right;\n",
       "    }\n",
       "</style>\n",
       "<table border=\"1\" class=\"dataframe\">\n",
       "  <thead>\n",
       "    <tr style=\"text-align: right;\">\n",
       "      <th></th>\n",
       "      <th>decision_id</th>\n",
       "      <th>label</th>\n",
       "      <th>pd</th>\n",
       "    </tr>\n",
       "  </thead>\n",
       "  <tbody>\n",
       "    <tr>\n",
       "      <th>4661</th>\n",
       "      <td>7a74c817-f036-4214-ade0-e5bfa07fd0fc</td>\n",
       "      <td>oot</td>\n",
       "      <td>0.146328</td>\n",
       "    </tr>\n",
       "    <tr>\n",
       "      <th>4662</th>\n",
       "      <td>7ba155b6-ce2c-432e-a717-163acd6306da</td>\n",
       "      <td>oot</td>\n",
       "      <td>0.293558</td>\n",
       "    </tr>\n",
       "    <tr>\n",
       "      <th>4663</th>\n",
       "      <td>831a2f46-dbb4-47a9-9f3b-91ff7d0214d2</td>\n",
       "      <td>oot</td>\n",
       "      <td>0.204604</td>\n",
       "    </tr>\n",
       "    <tr>\n",
       "      <th>4664</th>\n",
       "      <td>d4ec4849-b80e-49e9-a8a5-0e17f7d96c02</td>\n",
       "      <td>oot</td>\n",
       "      <td>0.083564</td>\n",
       "    </tr>\n",
       "    <tr>\n",
       "      <th>4665</th>\n",
       "      <td>e67c5ff3-3751-40d4-b621-4987df98ce1b</td>\n",
       "      <td>oot</td>\n",
       "      <td>0.104859</td>\n",
       "    </tr>\n",
       "  </tbody>\n",
       "</table>\n",
       "</div>"
      ],
      "text/plain": [
       "                               decision_id label        pd\n",
       "4661  7a74c817-f036-4214-ade0-e5bfa07fd0fc   oot  0.146328\n",
       "4662  7ba155b6-ce2c-432e-a717-163acd6306da   oot  0.293558\n",
       "4663  831a2f46-dbb4-47a9-9f3b-91ff7d0214d2   oot  0.204604\n",
       "4664  d4ec4849-b80e-49e9-a8a5-0e17f7d96c02   oot  0.083564\n",
       "4665  e67c5ff3-3751-40d4-b621-4987df98ce1b   oot  0.104859"
      ]
     },
     "execution_count": 17,
     "metadata": {},
     "output_type": "execute_result"
    }
   ],
   "source": [
    "Submission.head()"
   ]
  },
  {
   "cell_type": "markdown",
   "id": "00be88dc",
   "metadata": {},
   "source": [
    "## END"
   ]
  },
  {
   "cell_type": "code",
   "execution_count": null,
   "id": "d6769ecf",
   "metadata": {},
   "outputs": [],
   "source": []
  }
 ],
 "metadata": {
  "kernelspec": {
   "display_name": "Python 3 (ipykernel)",
   "language": "python",
   "name": "python3"
  },
  "language_info": {
   "codemirror_mode": {
    "name": "ipython",
    "version": 3
   },
   "file_extension": ".py",
   "mimetype": "text/x-python",
   "name": "python",
   "nbconvert_exporter": "python",
   "pygments_lexer": "ipython3",
   "version": "3.9.7"
  }
 },
 "nbformat": 4,
 "nbformat_minor": 5
}
