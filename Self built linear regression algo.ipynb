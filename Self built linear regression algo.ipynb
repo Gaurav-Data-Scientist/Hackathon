{
 "cells": [
  {
   "cell_type": "code",
   "execution_count": 1,
   "metadata": {},
   "outputs": [],
   "source": [
    "import numpy as np\n",
    "import pandas as pd\n",
    "from sklearn.linear_model import LinearRegression\n",
    "from sklearn import metrics\n",
    "import matplotlib.pyplot as plt\n",
    "from sklearn.preprocessing import StandardScaler\n",
    "from sklearn.datasets import load_diabetes\n",
    "from datetime import datetime"
   ]
  },
  {
   "cell_type": "code",
   "execution_count": 2,
   "metadata": {},
   "outputs": [
    {
     "data": {
      "text/html": [
       "<div>\n",
       "<style scoped>\n",
       "    .dataframe tbody tr th:only-of-type {\n",
       "        vertical-align: middle;\n",
       "    }\n",
       "\n",
       "    .dataframe tbody tr th {\n",
       "        vertical-align: top;\n",
       "    }\n",
       "\n",
       "    .dataframe thead th {\n",
       "        text-align: right;\n",
       "    }\n",
       "</style>\n",
       "<table border=\"1\" class=\"dataframe\">\n",
       "  <thead>\n",
       "    <tr style=\"text-align: right;\">\n",
       "      <th></th>\n",
       "      <th>age</th>\n",
       "      <th>sex</th>\n",
       "      <th>bmi</th>\n",
       "      <th>bp</th>\n",
       "      <th>s1</th>\n",
       "      <th>s2</th>\n",
       "      <th>s3</th>\n",
       "      <th>s4</th>\n",
       "      <th>s5</th>\n",
       "      <th>s6</th>\n",
       "    </tr>\n",
       "  </thead>\n",
       "  <tbody>\n",
       "    <tr>\n",
       "      <th>0</th>\n",
       "      <td>0.038076</td>\n",
       "      <td>0.050680</td>\n",
       "      <td>0.061696</td>\n",
       "      <td>0.021872</td>\n",
       "      <td>-0.044223</td>\n",
       "      <td>-0.034821</td>\n",
       "      <td>-0.043401</td>\n",
       "      <td>-0.002592</td>\n",
       "      <td>0.019908</td>\n",
       "      <td>-0.017646</td>\n",
       "    </tr>\n",
       "    <tr>\n",
       "      <th>1</th>\n",
       "      <td>-0.001882</td>\n",
       "      <td>-0.044642</td>\n",
       "      <td>-0.051474</td>\n",
       "      <td>-0.026328</td>\n",
       "      <td>-0.008449</td>\n",
       "      <td>-0.019163</td>\n",
       "      <td>0.074412</td>\n",
       "      <td>-0.039493</td>\n",
       "      <td>-0.068330</td>\n",
       "      <td>-0.092204</td>\n",
       "    </tr>\n",
       "    <tr>\n",
       "      <th>2</th>\n",
       "      <td>0.085299</td>\n",
       "      <td>0.050680</td>\n",
       "      <td>0.044451</td>\n",
       "      <td>-0.005671</td>\n",
       "      <td>-0.045599</td>\n",
       "      <td>-0.034194</td>\n",
       "      <td>-0.032356</td>\n",
       "      <td>-0.002592</td>\n",
       "      <td>0.002864</td>\n",
       "      <td>-0.025930</td>\n",
       "    </tr>\n",
       "    <tr>\n",
       "      <th>3</th>\n",
       "      <td>-0.089063</td>\n",
       "      <td>-0.044642</td>\n",
       "      <td>-0.011595</td>\n",
       "      <td>-0.036656</td>\n",
       "      <td>0.012191</td>\n",
       "      <td>0.024991</td>\n",
       "      <td>-0.036038</td>\n",
       "      <td>0.034309</td>\n",
       "      <td>0.022692</td>\n",
       "      <td>-0.009362</td>\n",
       "    </tr>\n",
       "    <tr>\n",
       "      <th>4</th>\n",
       "      <td>0.005383</td>\n",
       "      <td>-0.044642</td>\n",
       "      <td>-0.036385</td>\n",
       "      <td>0.021872</td>\n",
       "      <td>0.003935</td>\n",
       "      <td>0.015596</td>\n",
       "      <td>0.008142</td>\n",
       "      <td>-0.002592</td>\n",
       "      <td>-0.031991</td>\n",
       "      <td>-0.046641</td>\n",
       "    </tr>\n",
       "  </tbody>\n",
       "</table>\n",
       "</div>"
      ],
      "text/plain": [
       "        age       sex       bmi        bp        s1        s2        s3  \\\n",
       "0  0.038076  0.050680  0.061696  0.021872 -0.044223 -0.034821 -0.043401   \n",
       "1 -0.001882 -0.044642 -0.051474 -0.026328 -0.008449 -0.019163  0.074412   \n",
       "2  0.085299  0.050680  0.044451 -0.005671 -0.045599 -0.034194 -0.032356   \n",
       "3 -0.089063 -0.044642 -0.011595 -0.036656  0.012191  0.024991 -0.036038   \n",
       "4  0.005383 -0.044642 -0.036385  0.021872  0.003935  0.015596  0.008142   \n",
       "\n",
       "         s4        s5        s6  \n",
       "0 -0.002592  0.019908 -0.017646  \n",
       "1 -0.039493 -0.068330 -0.092204  \n",
       "2 -0.002592  0.002864 -0.025930  \n",
       "3  0.034309  0.022692 -0.009362  \n",
       "4 -0.002592 -0.031991 -0.046641  "
      ]
     },
     "execution_count": 2,
     "metadata": {},
     "output_type": "execute_result"
    }
   ],
   "source": [
    "diabetes=load_diabetes()\n",
    "data = pd.DataFrame(diabetes['data'], columns=diabetes['feature_names'])\n",
    "data.head()"
   ]
  },
  {
   "cell_type": "code",
   "execution_count": 7,
   "metadata": {},
   "outputs": [],
   "source": [
    "def cost_function(X, Y, B):\n",
    "    Y=pd.DataFrame(Y)\n",
    "    m = len(Y)\n",
    "    cost = (np.sum((X.dot(B) - Y) ** 2)/(2 * m))[0]\n",
    "    return cost\n",
    "\n",
    "\n",
    "def Prediction(X):\n",
    "    standardize = StandardScaler()\n",
    "    X_standard = pd.DataFrame(standardize.fit_transform(X))\n",
    "    X_standard.columns=X.columns.values\n",
    "\n",
    "    # Adding dummy column for constant coefficient\n",
    "    const = pd.DataFrame(np.ones(len(X_standard)))\n",
    "    X_const=pd.concat([const,X_standard],axis=1)\n",
    "    X_const.columns.values[0]='constant'\n",
    "\n",
    "    Predict=pd.DataFrame(X_const.dot(np.array(coefficients)))\n",
    "    return Predict\n",
    "\n",
    "\n",
    "def R_sq(Actual, Predict):\n",
    "    Actual_1 = np.array(Actual)\n",
    "    Predict_1=np.array(Predict)\n",
    "    SS_res = sum((Actual_1 - Predict_1)**2)\n",
    "    SS_total = sum((Actual_1 - Actual_1.mean())**2)\n",
    "    R_sq = 1-(SS_res/SS_total)\n",
    "    return R_sq\n",
    "\n",
    "def Linear_model(X_data, y_data):\n",
    "\n",
    "    time_start = datetime.now()\n",
    "\n",
    "    #Standardizing the features\n",
    "    standardize = StandardScaler()\n",
    "    X_data_standard = pd.DataFrame(standardize.fit_transform(X_data))\n",
    "    X_data_standard.columns=X_data.columns.values\n",
    "    X_data =X_data_standard\n",
    "\n",
    "    # Adding dummy column for constant coefficient\n",
    "    const = pd.DataFrame(np.ones(len(X_data)))\n",
    "    X_data=pd.concat([const,X_data],axis=1)\n",
    "    X_data.columns.values[0]='constant'\n",
    "\n",
    "    variables = X_data.shape[1]\n",
    "\n",
    "    global coefficients\n",
    "    coefficients = np.array([0]*variables)\n",
    "    y=np.concatenate(np.array(y_data))\n",
    "\n",
    "    iterations=100\n",
    "    Learning_rate=0.005 # Learning Rate\n",
    "    n=len(X_data) # Data points\n",
    "\n",
    "    delta=[]\n",
    "    global cost\n",
    "\n",
    "    cost = [0] * iterations\n",
    "\n",
    "    for i in range(0,iterations):\n",
    "        cost[i]=cost_function(X_data, y, coefficients)\n",
    "        Predicted=np.array(np.dot(X_data,coefficients))\n",
    "        Error=np.array(Predicted-y)\n",
    "        delta=(np.array(X_data.T.dot(Error)))\n",
    "        coefficients=coefficients-delta*(2*Learning_rate/n)\n",
    "\n",
    "    time_end = datetime.now()\n",
    "    print('Run Time (Hour:Min:sec)',time_end-time_start,'\\n')\n",
    "    print('Coefficients:',coefficients)\n",
    "    "
   ]
  },
  {
   "cell_type": "code",
   "execution_count": 8,
   "metadata": {},
   "outputs": [
    {
     "name": "stdout",
     "output_type": "stream",
     "text": [
      "Run Time (Hour:Min:sec) 0:00:23.353313 \n",
      "\n",
      "Coefficients: [ 8.14513113e-17  4.76166323e-03  7.66758965e-03  6.71703435e-03\n",
      "  2.25088685e-03  9.57334109e-05 -4.55042610e-04  4.38484281e-04\n",
      "  6.21952869e-03  6.66049881e-03]\n"
     ]
    }
   ],
   "source": [
    "X_data=data[['sex','bmi','age','s1','s2','s3','s4','s5','s6']]\n",
    "y_data=pd.DataFrame(data['bp'])\n",
    "\n",
    "Linear_model(X_data,y_data)"
   ]
  },
  {
   "cell_type": "code",
   "execution_count": 9,
   "metadata": {},
   "outputs": [
    {
     "name": "stdout",
     "output_type": "stream",
     "text": [
      "[5.50022466e-16] [[ 0.17639084  0.24530954  0.17366821  0.23658619 -0.12074717 -0.10736377\n",
      "  -0.22396394  0.14878206  0.15891835]]\n"
     ]
    }
   ],
   "source": [
    "#Using sklearn model\n",
    "\n",
    "sklearn_model= LinearRegression()\n",
    "sklearn_model.fit(X_data, y_data)\n",
    "print(sklearn_model.intercept_, sklearn_model.coef_)"
   ]
  },
  {
   "cell_type": "code",
   "execution_count": 10,
   "metadata": {},
   "outputs": [
    {
     "name": "stdout",
     "output_type": "stream",
     "text": [
      "Manual [0.28976762]\n",
      "Sklearn [0.31480032]\n"
     ]
    }
   ],
   "source": [
    "#Model Peroformance (Manual vs Sklearn model)\n",
    "\n",
    "print('Manual',R_sq(y_data,Prediction(X_data)))\n",
    "print('Sklearn',R_sq(y_data,sklearn_model.predict(X_data)))"
   ]
  }
 ],
 "metadata": {
  "kernelspec": {
   "display_name": "Python 3",
   "language": "python",
   "name": "python3"
  },
  "language_info": {
   "codemirror_mode": {
    "name": "ipython",
    "version": 3
   },
   "file_extension": ".py",
   "mimetype": "text/x-python",
   "name": "python",
   "nbconvert_exporter": "python",
   "pygments_lexer": "ipython3",
   "version": "3.7.6"
  }
 },
 "nbformat": 4,
 "nbformat_minor": 4
}
